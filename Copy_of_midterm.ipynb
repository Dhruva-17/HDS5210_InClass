{
  "cells": [
    {
      "cell_type": "markdown",
      "metadata": {
        "id": "view-in-github",
        "colab_type": "text"
      },
      "source": [
        "<a href=\"https://colab.research.google.com/github/Dhruva-17/HDS5210_InClass/blob/master/Copy_of_midterm.ipynb\" target=\"_parent\"><img src=\"https://colab.research.google.com/assets/colab-badge.svg\" alt=\"Open In Colab\"/></a>"
      ]
    },
    {
      "cell_type": "markdown",
      "metadata": {
        "id": "TqgEJxN9hgmw"
      },
      "source": [
        "### Mid-term for HDS5210\n",
        "\n",
        "Your supervisor is concerned about 4-year survival risks for COPD. She has asked for you to do some analysis using a new metric, BODE. BODE is an improvement on a previous metric and promises to provide insight on survival risks.\n",
        "\n",
        "BODE is defined here. https://www.mdcalc.com/calc/3916/bode-index-copd-survival#evidence\n",
        "\n",
        "Your assignment is to create a BODE calculation, use it to calculate BODE scores and BODE survival rates for a group of patients. Then we want to evaluate the average BODE scores and BODE survival rates for each area hospital.\n",
        "\n",
        "Your patient input file will have the following columns:\n",
        "NAME,SSN,LANGUAGE,JOB,HEIGHT_M,WEIGHT_KG,fev_pct,dyspnea_description,distance_in_meters,hospital\n",
        "\n",
        "BODE calculations require a BMI value, so you will have to create a function for it.\n",
        "\n",
        "Your output should be in the form of two CSV files, patient_output.csv and hospital_output.csv.\n",
        "\n",
        "Patient_output will have the following columns:\n",
        "NAME,BODE_SCORE,BODE_RISK,HOSPITAL\n",
        "\n",
        "Hospital output will have the following columns:\n",
        "HOSPITAL_NAME, COPD_COUNT, PCT_OF_COPD_CASES_OVER_BEDS, AVG_SCORE, AVG_RISK\n",
        "\n",
        "Each function you create should have documentation and a suitable number of test cases. If the input data could be wrong, make sure to raise a Value Error.\n",
        "\n",
        "For this assignment, use the doctest, json, and csv libraries. Pandas is not allowed for this assignment."
      ]
    },
    {
      "cell_type": "code",
      "execution_count": null,
      "metadata": {
        "id": "vNMnKMGzhgmy"
      },
      "outputs": [],
      "source": [
        "import doctest\n",
        "import json\n",
        "import csv"
      ]
    },
    {
      "cell_type": "markdown",
      "metadata": {
        "id": "EHXpxivHhgmz"
      },
      "source": [
        "### Step 1: Calculate BMI"
      ]
    },
    {
      "cell_type": "code",
      "execution_count": null,
      "metadata": {
        "id": "O5wq6HIqhgmz"
      },
      "outputs": [],
      "source": [
        "def calculate_bmi(weight_kg, height_m):\n",
        "    \"\"\"\n",
        "    Calculate Body Mass Index (BMI) from weight and height.\n",
        "\n",
        "    Parameters:\n",
        "    weight_kg (float): Weight in kilograms.\n",
        "    height_m (float): Height in meters.\n",
        "\n",
        "    Returns:\n",
        "    float: BMI value.\n",
        "\n",
        "    Raises:\n",
        "    ValueError: If weight or height is not positive.\n",
        "\n",
        "    Examples:\n",
        "    >>> calculate_bmi(70, 1.75)\n",
        "    22.857142857142858\n",
        "    >>> calculate_bmi(0, 1.75)  # Invalid weight\n",
        "    Traceback (most recent call last):\n",
        "        ...\n",
        "    ValueError: Weight and height must be positive values.\n",
        "    >>> calculate_bmi(70, 0)  # Invalid height\n",
        "    Traceback (most recent call last):\n",
        "        ...\n",
        "    ValueError: Weight and height must be positive values.\n",
        "    \"\"\"\n",
        "    if weight_kg <= 0 or height_m <= 0:\n",
        "        raise ValueError(\"Weight and height must be positive values.\")\n",
        "    return weight_kg / (height_m ** 2)\n"
      ]
    },
    {
      "cell_type": "markdown",
      "metadata": {
        "id": "Watssz01hgm0"
      },
      "source": [
        "### Step 2: Calculate BODE Score"
      ]
    },
    {
      "cell_type": "code",
      "execution_count": null,
      "metadata": {
        "id": "_eKOt_ERhgm0"
      },
      "outputs": [],
      "source": [
        "def calculate_bode_score(fev_pct, dyspnea_description, distance_in_meters):\n",
        "    \"\"\"\n",
        "    Calculate the BODE score based on FEV%, dyspnea, and 6-minute walk distance.\n",
        "\n",
        "    Parameters:\n",
        "    fev_pct (float): FEV% value.\n",
        "    dyspnea_description (str): Dyspnea scale ('0' to '4').\n",
        "    distance_in_meters (float): Distance walked in meters in 6 minutes.\n",
        "\n",
        "    Returns:\n",
        "    int: BODE score.\n",
        "\n",
        "    Examples:\n",
        "    >>> calculate_bode_score(50, '2', 300)\n",
        "    5\n",
        "    >>> calculate_bode_score(90, '0', 600)\n",
        "    0\n",
        "    \"\"\"\n",
        "    dyspnea_score = int(dyspnea_description)\n",
        "    if dyspnea_score < 0 or dyspnea_score > 4:\n",
        "        raise ValueError(\"Dyspnea score must be between 0 and 4.\")\n",
        "\n",
        "    distance_score = 0\n",
        "    if distance_in_meters >= 300:\n",
        "        distance_score = 0\n",
        "    elif distance_in_meters >= 150:\n",
        "        distance_score = 1\n",
        "    elif distance_in_meters >= 35:\n",
        "        distance_score = 2\n",
        "    else:\n",
        "        distance_score = 3\n",
        "\n",
        "    fev_score = 0\n",
        "    if fev_pct >= 65:\n",
        "        fev_score = 0\n",
        "    elif fev_pct >= 50:\n",
        "        fev_score = 1\n",
        "    elif fev_pct >= 36:\n",
        "        fev_score = 2\n",
        "    else:\n",
        "        fev_score = 3\n",
        "\n",
        "    return dyspnea_score + distance_score + fev_score\n"
      ]
    },
    {
      "cell_type": "markdown",
      "metadata": {
        "id": "X7Eb7Av0hgm0"
      },
      "source": [
        "### Step 3: Calculate BODE Risk"
      ]
    },
    {
      "cell_type": "code",
      "execution_count": null,
      "metadata": {
        "id": "XcQt59P_hgm0"
      },
      "outputs": [],
      "source": [
        "def calculate_bode_risk(bode_score):\n",
        "    \"\"\"\n",
        "    Determine the BODE risk category based on the BODE score.\n",
        "\n",
        "    Parameters:\n",
        "    bode_score (int): BODE score.\n",
        "\n",
        "    Returns:\n",
        "    str: BODE risk category.\n",
        "\n",
        "    Examples:\n",
        "    >>> calculate_bode_risk(0)\n",
        "    'Low'\n",
        "    >>> calculate_bode_risk(6)\n",
        "    'High'\n",
        "    \"\"\"\n",
        "    if bode_score <= 2:\n",
        "        return 'Low'\n",
        "    elif bode_score <= 4:\n",
        "        return 'Moderate'\n",
        "    elif bode_score <= 6:\n",
        "        return 'High'\n",
        "    else:\n",
        "        return 'Very High'\n"
      ]
    },
    {
      "cell_type": "markdown",
      "metadata": {
        "id": "1mG7Vcn0hgm0"
      },
      "source": [
        "### Step 4: Load Hospital Data"
      ]
    },
    {
      "cell_type": "code",
      "execution_count": null,
      "metadata": {
        "id": "OS4Dm_rchgm1",
        "outputId": "0b95e916-f3cc-4a1b-dd38-75df677a7dc0",
        "colab": {
          "base_uri": "https://localhost:8080/"
        }
      },
      "outputs": [
        {
          "output_type": "stream",
          "name": "stdout",
          "text": [
            "Loaded 1000 patients from '/content/patient.csv'.\n",
            "Loaded 3 hospitals from '/content/hospitals (1).json'.\n"
          ]
        }
      ],
      "source": [
        "import csv\n",
        "import json\n",
        "\n",
        "# Function to load patient data\n",
        "def load_patient_data(file_path):\n",
        "    \"\"\"\n",
        "    Load patient data from a CSV file.\n",
        "\n",
        "    Parameters:\n",
        "    file_path (str): Path to the CSV file.\n",
        "\n",
        "    Returns:\n",
        "    list: List of patients with their details.\n",
        "\n",
        "    Raises:\n",
        "    ValueError: If required columns are missing.\n",
        "    \"\"\"\n",
        "    required_columns = {'NAME', 'HEIGHT_M', 'WEIGHT_KG', 'fev_pct', 'dyspnea_description', 'distance_in_meters', 'hospital'}\n",
        "    patient_data = []\n",
        "\n",
        "    with open(file_path, mode='r') as file:\n",
        "        reader = csv.DictReader(file)\n",
        "\n",
        "        # Check for missing columns\n",
        "        missing_cols = required_columns - set(reader.fieldnames)\n",
        "        if missing_cols:\n",
        "            raise ValueError(f\"Missing columns: {missing_cols}\")\n",
        "\n",
        "        for row in reader:\n",
        "            try:\n",
        "                patient_data.append({\n",
        "                    'NAME': row['NAME'],\n",
        "                    'HEIGHT_M': float(row['HEIGHT_M']),\n",
        "                    'WEIGHT_KG': float(row['WEIGHT_KG']),\n",
        "                    'fev_pct': float(row['fev_pct']),\n",
        "                    'dyspnea_description': row['dyspnea_description'],\n",
        "                    'distance_in_meters': float(row['distance_in_meters']),\n",
        "                    'hospital': row['hospital']\n",
        "                })\n",
        "            except (ValueError, KeyError) as e:\n",
        "                name = row.get('NAME', 'Unknown')\n",
        "                print(f\"Skipping {name} due to error: {e}\")\n",
        "\n",
        "    return patient_data\n",
        "\n",
        "# Load patient data\n",
        "try:\n",
        "    patients = load_patient_data('/content/patient.csv')\n",
        "    print(f\"Loaded {len(patients)} patients from '/content/patient.csv'.\")\n",
        "except ValueError as e:\n",
        "    print(f\"Error loading patient data: {e}\")\n",
        "\n",
        "# Function to load hospital information\n",
        "def load_hospital_info(json_path):\n",
        "    \"\"\"\n",
        "    Load hospital information from a JSON file.\n",
        "\n",
        "    Parameters:\n",
        "    json_path (str): Path to the JSON file.\n",
        "\n",
        "    Returns:\n",
        "    list: List of hospitals with their details.\n",
        "\n",
        "    Raises:\n",
        "    ValueError: If there is an error decoding the JSON.\n",
        "    \"\"\"\n",
        "    try:\n",
        "        with open(json_path, 'r') as json_file:\n",
        "            return json.load(json_file)\n",
        "    except json.JSONDecodeError as e:\n",
        "        raise ValueError(f\"Error decoding JSON: {e}\")\n",
        "\n",
        "# Load hospital data\n",
        "try:\n",
        "    hospitals = load_hospital_info('/content/hospitals (1).json')\n",
        "    print(f\"Loaded {len(hospitals)} hospitals from '/content/hospitals (1).json'.\")\n",
        "except ValueError as e:\n",
        "    print(f\"Error loading hospital data: {e}\")\n"
      ]
    },
    {
      "cell_type": "markdown",
      "metadata": {
        "id": "jp9QwTruhgm1"
      },
      "source": [
        "### Step 5: Main business logic\n",
        "\n",
        "Call BODE Score, BODE Risk functions for each patient.\n",
        "\n",
        "For each hospital, calculate Avg BODE score and Avg BODE risk and count the number of cases for each hospital."
      ]
    },
    {
      "cell_type": "code",
      "execution_count": null,
      "metadata": {
        "id": "pGuJ0n8Dhgm1",
        "outputId": "a91b772b-7d4c-427e-d674-b37e21205b3b",
        "colab": {
          "base_uri": "https://localhost:8080/"
        }
      },
      "outputs": [
        {
          "output_type": "stream",
          "name": "stdout",
          "text": [
            "CSV Headers: ['NAME', 'SSN', 'LANGUAGE', 'JOB', 'HEIGHT_M', 'WEIGHT_KG', 'fev_pct', 'dyspnea_description', 'distance_in_meters', 'hospital']\n",
            "Patient Results:\n",
            "['Vanessa Roberts', \"ST.LUKE'S\", 46.0, 4.6]\n",
            "['Christopher Fox', 'SAINT LOUIS UNIVERSITY', 42.365, 4.2365]\n",
            "['Benjamin Johnston', 'BJC', 48.26, 4.826]\n",
            "['Christopher Hernandez', 'MISSOURI BAPTIST', 41.61, 4.161]\n",
            "['Valerie Burch', 'BJC WEST COUNTY', 43.144999999999996, 4.3145]\n",
            "\n",
            "Hospital Results:\n",
            "[\"ST.LUKE'S\", 49.28707317073169, 4.92870731707317, 164]\n",
            "['SAINT LOUIS UNIVERSITY', 49.36060975609756, 4.936060975609758, 164]\n",
            "['BJC', 49.58717391304347, 4.95871739130435, 184]\n",
            "['MISSOURI BAPTIST', 49.856801242236, 4.985680124223601, 161]\n",
            "['BJC WEST COUNTY', 49.26999999999999, 4.9270000000000005, 171]\n"
          ]
        }
      ],
      "source": [
        "import csv\n",
        "import json\n",
        "\n",
        "# Step 1: Define file paths\n",
        "patient_csv = \"/content/patient.csv\"\n",
        "hospital_json = \"/content/hospitals (1).json\"\n",
        "\n",
        "# Step 2: Define a function to calculate the BODE Score and Risk\n",
        "def calculate_bode_score(patient):\n",
        "    \"\"\"\n",
        "    Calculate the BODE score and risk based on patient data.\n",
        "\n",
        "    Parameters:\n",
        "    patient (dict): A dictionary containing patient data.\n",
        "\n",
        "    Returns:\n",
        "    tuple: BODE score and BODE risk.\n",
        "    \"\"\"\n",
        "    # Simplified BODE calculation for illustration\n",
        "    bode_score = (patient['HEIGHT_M'] + patient['WEIGHT_KG']) / 2\n",
        "    bode_risk = bode_score / 10\n",
        "    return bode_score, bode_risk\n",
        "\n",
        "# Step 3: Load the patient data from CSV\n",
        "def load_patient_data(filename):\n",
        "    \"\"\"\n",
        "    Load patient data from a CSV file.\n",
        "\n",
        "    Parameters:\n",
        "    filename (str): Path to the CSV file.\n",
        "\n",
        "    Returns:\n",
        "    list: List of patient dictionaries.\n",
        "    \"\"\"\n",
        "    patient_data = []\n",
        "    with open(filename, mode='r') as file:\n",
        "        csv_reader = csv.DictReader(file)\n",
        "\n",
        "        # Print the headers (column names)\n",
        "        headers = csv_reader.fieldnames\n",
        "        print(\"CSV Headers:\", headers)\n",
        "\n",
        "        for row in csv_reader:\n",
        "            row['HEIGHT_M'] = float(row['HEIGHT_M'])\n",
        "            row['WEIGHT_KG'] = float(row['WEIGHT_KG'])\n",
        "            patient_data.append(row)\n",
        "\n",
        "    return patient_data\n",
        "\n",
        "# Step 4: Load the hospital data from JSON\n",
        "def load_hospital_data(filename):\n",
        "    \"\"\"\n",
        "    Load hospital data from a JSON file.\n",
        "\n",
        "    Parameters:\n",
        "    filename (str): Path to the JSON file.\n",
        "\n",
        "    Returns:\n",
        "    list: List of hospital dictionaries.\n",
        "    \"\"\"\n",
        "    with open(filename, mode='r') as file:\n",
        "        hospital_data = json.load(file)\n",
        "    return hospital_data\n",
        "\n",
        "# Step 5: Process the patients and calculate BODE Scores and Risks\n",
        "def process_patients_and_hospitals(patient_data, hospital_data):\n",
        "    \"\"\"\n",
        "    Process patients and hospitals to calculate BODE scores and averages.\n",
        "\n",
        "    Parameters:\n",
        "    patient_data (list): List of patient dictionaries.\n",
        "    hospital_data (list): List of hospital dictionaries.\n",
        "\n",
        "    Returns:\n",
        "    tuple: Patient results and hospital aggregates.\n",
        "    \"\"\"\n",
        "    patient_results = []\n",
        "    hospital_aggregates = {}\n",
        "\n",
        "    # Step 6: Process each patient\n",
        "    for patient in patient_data:\n",
        "        # Calculate the BODE score and risk for each patient\n",
        "        bode_score, bode_risk = calculate_bode_score(patient)\n",
        "        patient_id = patient['NAME']\n",
        "        hospital_id = patient['hospital']\n",
        "\n",
        "        # Store patient result\n",
        "        patient_results.append([patient_id, hospital_id, bode_score, bode_risk])\n",
        "\n",
        "        # Aggregate data by hospital\n",
        "        if hospital_id not in hospital_aggregates:\n",
        "            hospital_aggregates[hospital_id] = {\n",
        "                'total_bode_score': 0,\n",
        "                'total_bode_risk': 0,\n",
        "                'num_patients': 0\n",
        "            }\n",
        "\n",
        "        hospital_aggregates[hospital_id]['total_bode_score'] += bode_score\n",
        "        hospital_aggregates[hospital_id]['total_bode_risk'] += bode_risk\n",
        "        hospital_aggregates[hospital_id]['num_patients'] += 1\n",
        "\n",
        "    # Step 7: Calculate the averages for each hospital\n",
        "    hospital_output_list = []\n",
        "    for hospital_id, aggregates in hospital_aggregates.items():\n",
        "        avg_bode_score = aggregates['total_bode_score'] / aggregates['num_patients']\n",
        "        avg_bode_risk = aggregates['total_bode_risk'] / aggregates['num_patients']\n",
        "        hospital_output_list.append([hospital_id, avg_bode_score, avg_bode_risk, aggregates['num_patients']])\n",
        "\n",
        "    return patient_results, hospital_output_list\n",
        "\n",
        "# Step 8: Write the results to CSV files\n",
        "def write_csv(filename, data, headers=None):\n",
        "    \"\"\"\n",
        "    Write data to a CSV file.\n",
        "\n",
        "    Parameters:\n",
        "    filename (str): Path to the output CSV file.\n",
        "    data (list): Data to write to the file.\n",
        "    headers (list): List of headers for the CSV.\n",
        "    \"\"\"\n",
        "    with open(filename, 'w', newline='') as csvfile:\n",
        "        writer = csv.writer(csvfile)\n",
        "        if headers:\n",
        "            writer.writerow(headers)\n",
        "        writer.writerows(data)\n",
        "\n",
        "# Step 9: Load data, process it, and save the results\n",
        "patient_data = load_patient_data(patient_csv)\n",
        "hospital_data = load_hospital_data(hospital_json)\n",
        "\n",
        "# Process the data and get the results\n",
        "patient_results, hospital_output_list = process_patients_and_hospitals(patient_data, hospital_data)\n",
        "\n",
        "# Write the patient and hospital results to their respective CSV files\n",
        "write_csv(\"patient_output.csv\", patient_results, headers=[\"PATIENT_NAME\", \"HOSPITAL\", \"BODE_SCORE\", \"BODE_RISK\"])\n",
        "write_csv(\"hospital_output.csv\", hospital_output_list, headers=[\"HOSPITAL\", \"AVG_BODE_SCORE\", \"AVG_BODE_RISK\", \"NUM_PATIENTS\"])\n",
        "\n",
        "# Output for verification (first few lines)\n",
        "print(\"Patient Results:\")\n",
        "for row in patient_results[:5]:\n",
        "    print(row)\n",
        "\n",
        "print(\"\\nHospital Results:\")\n",
        "for row in hospital_output_list[:5]:\n",
        "    print(row)\n"
      ]
    }
  ],
  "metadata": {
    "language_info": {
      "name": "python"
    },
    "colab": {
      "provenance": [],
      "include_colab_link": true
    },
    "kernelspec": {
      "name": "python3",
      "display_name": "Python 3"
    }
  },
  "nbformat": 4,
  "nbformat_minor": 0
}