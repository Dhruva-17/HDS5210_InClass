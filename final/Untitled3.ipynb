{
  "nbformat": 4,
  "nbformat_minor": 0,
  "metadata": {
    "colab": {
      "provenance": [],
      "authorship_tag": "ABX9TyM/sL2wgx3zcvo+TslvcEbh",
      "include_colab_link": true
    },
    "kernelspec": {
      "name": "python3",
      "display_name": "Python 3"
    },
    "language_info": {
      "name": "python"
    }
  },
  "cells": [
    {
      "cell_type": "markdown",
      "metadata": {
        "id": "view-in-github",
        "colab_type": "text"
      },
      "source": [
        "<a href=\"https://colab.research.google.com/github/Dhruva-17/HDS5210_InClass/blob/master/final/Untitled3.ipynb\" target=\"_parent\"><img src=\"https://colab.research.google.com/assets/colab-badge.svg\" alt=\"Open In Colab\"/></a>"
      ]
    },
    {
      "cell_type": "markdown",
      "source": [
        "# **Analyzing Customer Demographics and Sales Trends to Enhance Subscription-Based Business Strategies**"
      ],
      "metadata": {
        "id": "oL2IDB5fSAmS"
      }
    },
    {
      "cell_type": "markdown",
      "source": [
        "**Introduction**:\n",
        "\n",
        "This project explores the interplay between customer demographics and sales data in subscription-based business models. Leveraging two comprehensive datasets, one detailing customer profiles and the other capturing extensive sales records, the study aims to identify key trends and correlations that influence subscription plan preferences and purchasing behaviors across different demographics. By analyzing factors such as age, gender, income, and geographic distribution alongside sales performance metrics, the project seeks to provide actionable insights to optimize customer engagement strategies and drive business growth."
      ],
      "metadata": {
        "id": "Bcf8GS8nSmKP"
      }
    },
    {
      "cell_type": "markdown",
      "source": [
        "# **Data Access**\n",
        "\n",
        "**Define** **Functions**"
      ],
      "metadata": {
        "id": "-J0W63dXho6u"
      }
    },
    {
      "cell_type": "markdown",
      "source": [
        "The provided code snippet is designed to load and analyze two datasets: one in CSV format containing sales data and another in JSON format containing customer data. Here's a breakdown of its components:\n",
        "\n",
        "1. load_sales_data Function\n",
        "Purpose: Load sales data from a CSV file into a Pandas DataFrame.\n",
        "Key Steps:\n",
        "Uses pd.read_csv to read the CSV file.\n",
        "Handles exceptions such as:\n",
        "FileNotFoundError: Prints an error if the file is not found.\n",
        "Other exceptions: Prints the error message for debugging.\n",
        "2. load_customer_data Function\n",
        "Purpose: Load customer data from a JSON file into a Pandas DataFrame.\n",
        "Key Steps:\n",
        "Uses pd.read_json with the parameters orient=\"records\" and lines=True to handle JSON files structured as lines of individual records.\n",
        "Exception handling is similar to the load_sales_data function.\n",
        "3. display_dataset_info Function\n",
        "Purpose: Display a quick summary of the datasets, including:\n",
        "First five rows of each DataFrame (head() method).\n",
        "Shape of the DataFrame (number of rows and columns) using the shape attribute.\n",
        "Key Logic:\n",
        "Verifies if the DataFrame is loaded successfully before attempting to display its information.\n",
        "4. Main Script\n",
        "Specifies the file paths for the sales and customer data files.\n",
        "Calls the respective functions to load the datasets.\n",
        "Displays a summary of the loaded datasets using display_dataset_info."
      ],
      "metadata": {
        "id": "a6myEIt4To_F"
      }
    },
    {
      "cell_type": "code",
      "execution_count": 18,
      "metadata": {
        "id": "fh4EubklhP7r"
      },
      "outputs": [],
      "source": [
        "import pandas as pd\n",
        "\n",
        "def load_sales_data(file_path):\n",
        "    \"\"\"\n",
        "    Load the sales dataset from a CSV file.\n",
        "\n",
        "    Args:\n",
        "    - file_path (str): The file path to the sales data CSV file.\n",
        "\n",
        "    Returns:\n",
        "    - pd.DataFrame: A pandas DataFrame containing the sales data.\n",
        "\n",
        "    Example:\n",
        "    >>> sales_df = load_sales_data('/content/extended_sales_data.csv')\n",
        "    \"\"\"\n",
        "    try:\n",
        "        sales_df = pd.read_csv(file_path)\n",
        "        return sales_df\n",
        "    except FileNotFoundError:\n",
        "        print(f\"Error: File not found at {file_path}\")\n",
        "        return None\n",
        "    except Exception as e:\n",
        "        print(f\"Error loading sales data: {e}\")\n",
        "        return None\n",
        "\n",
        "\n",
        "def load_customer_data(file_path):\n",
        "    \"\"\"\n",
        "    Load the customer dataset from a JSON file.\n",
        "\n",
        "    Args:\n",
        "    - file_path (str): The file path to the customer data JSON file.\n",
        "\n",
        "    Returns:\n",
        "    - pd.DataFrame: A pandas DataFrame containing the customer data.\n",
        "\n",
        "    Example:\n",
        "    >>> customer_df = load_customer_data('/content/extended_customer_data.json')\n",
        "    \"\"\"\n",
        "    try:\n",
        "        customer_df = pd.read_json(file_path, orient=\"records\", lines=True)\n",
        "        return customer_df\n",
        "    except FileNotFoundError:\n",
        "        print(f\"Error: File not found at {file_path}\")\n",
        "        return None\n",
        "    except Exception as e:\n",
        "        print(f\"Error loading customer data: {e}\")\n",
        "        return None\n",
        "\n",
        "\n",
        "def display_dataset_info(sales_df, customer_df):\n",
        "    \"\"\"\n",
        "    Display the first few rows and shapes of the sales and customer datasets.\n",
        "\n",
        "    Args:\n",
        "    - sales_df (pd.DataFrame): The sales data DataFrame.\n",
        "    - customer_df (pd.DataFrame): The customer data DataFrame.\n",
        "\n",
        "    The function prints the following:\n",
        "    - First few rows of each dataset\n",
        "    - Shape (number of rows and columns) of each dataset\n",
        "\n",
        "    Example:\n",
        "    >>> display_dataset_info(sales_df, customer_df)\n",
        "    \"\"\"\n",
        "    if sales_df is not None:\n",
        "        print(\"Sales Data (CSV):\")\n",
        "        print(sales_df.head())\n",
        "        print(\"\\nSales Data shape:\", sales_df.shape)\n",
        "    else:\n",
        "        print(\"Sales Data could not be loaded.\")\n",
        "\n",
        "    if customer_df is not None:\n",
        "        print(\"\\nCustomer Data (JSON):\")\n",
        "        print(customer_df.head())\n",
        "        print(\"\\nCustomer Data shape:\", customer_df.shape)\n",
        "    else:\n",
        "        print(\"Customer Data could not be loaded.\")\n"
      ]
    },
    {
      "cell_type": "code",
      "source": [
        "# Define the file paths\n",
        "sales_data_path = '/content/extended_sales_data.csv'\n",
        "customer_data_path = '/content/extended_customer_data.json'\n",
        "\n",
        "# Load the datasets\n",
        "sales_df = load_sales_data(sales_data_path)\n",
        "customer_df = load_customer_data(customer_data_path)\n",
        "\n",
        "# Display dataset information\n",
        "display_dataset_info(sales_df, customer_df)\n"
      ],
      "metadata": {
        "colab": {
          "base_uri": "https://localhost:8080/"
        },
        "id": "tmdWf6Wohffq",
        "outputId": "54435a5f-c0b6-49bc-c219-7c7c293535ab"
      },
      "execution_count": 19,
      "outputs": [
        {
          "output_type": "stream",
          "name": "stdout",
          "text": [
            "Sales Data (CSV):\n",
            "   TransactionID        Date  CustomerID     Product  Amount  Quantity  \\\n",
            "0           1001  2025-08-05         129      Laptop     221         1   \n",
            "1           1002  2024-04-01         126       Mouse     242         4   \n",
            "2           1003  2024-09-21         130     Charger    1093         3   \n",
            "3           1004  2026-06-13         127      Tablet     205         4   \n",
            "4           1005  2024-08-07         129  Headphones     986         4   \n",
            "\n",
            "   PaymentMethod StoreLocation  \n",
            "0         PayPal       Chicago  \n",
            "1  Bank Transfer   Los Angeles  \n",
            "2           Cash      New York  \n",
            "3           Cash       Chicago  \n",
            "4           Cash   Los Angeles  \n",
            "\n",
            "Sales Data shape: (1000, 8)\n",
            "\n",
            "Customer Data (JSON):\n",
            "   CustomerID  Age  Gender  Income         City SubscriptionPlan  \\\n",
            "0         100   22    Male   24582        Miami             Gold   \n",
            "1         101   43  Female   98683        Miami            Basic   \n",
            "2         102   37    Male   31397  Los Angeles             Gold   \n",
            "3         103   23  Female   58799      Chicago            Basic   \n",
            "4         104   23    Male   57011      Chicago          Premium   \n",
            "\n",
            "        JoinDate  \n",
            "0  1761696000000  \n",
            "1  1709164800000  \n",
            "2  1769731200000  \n",
            "3  1781654400000  \n",
            "4  1780531200000  \n",
            "\n",
            "Customer Data shape: (1000, 7)\n"
          ]
        }
      ]
    },
    {
      "cell_type": "markdown",
      "source": [
        "# Test codes"
      ],
      "metadata": {
        "id": "ffxt9-iqfnqk"
      }
    },
    {
      "cell_type": "markdown",
      "source": [
        "**Test Case 1: Valid File Paths**"
      ],
      "metadata": {
        "id": "rku1i81QgE3R"
      }
    },
    {
      "cell_type": "code",
      "source": [
        "def test_valid_file_paths():\n",
        "    sales_data_path = '/content/valid_sales_data.csv'\n",
        "    customer_data_path = '/content/valid_customer_data.json'\n",
        "\n",
        "    sales_test_data = pd.DataFrame({\n",
        "        'SaleID': [1, 2],\n",
        "        'Amount': [200, 300],\n",
        "        'Date': ['2024-01-01', '2024-01-02']\n",
        "    })\n",
        "    customer_test_data = pd.DataFrame({\n",
        "        'CustomerID': [1, 2],\n",
        "        'Name': ['Alice', 'Bob'],\n",
        "        'City': ['New York', 'San Francisco']\n",
        "    })\n",
        "    sales_test_data.to_csv(sales_data_path, index=False)\n",
        "    customer_test_data.to_json(customer_data_path, orient='records', lines=True)\n",
        "\n",
        "    sales_df = load_sales_data(sales_data_path)\n",
        "    customer_df = load_customer_data(customer_data_path)\n",
        "    assert sales_df.shape == (2, 3), \"Sales Data: Shape mismatch\"\n",
        "    assert customer_df.shape == (2, 3), \"Customer Data: Shape mismatch\"\n",
        "\n",
        "    import os\n",
        "    os.remove(sales_data_path)\n",
        "    os.remove(customer_data_path)\n",
        "    print(\"Test Case 1 Passed: Valid File Paths\")\n"
      ],
      "metadata": {
        "id": "gckiy1-efur4"
      },
      "execution_count": 48,
      "outputs": []
    },
    {
      "cell_type": "markdown",
      "source": [
        "**Test Case 2**"
      ],
      "metadata": {
        "id": "7uUrDMe9gJTN"
      }
    },
    {
      "cell_type": "code",
      "source": [
        "def test_file_not_found():\n",
        "    sales_data_path = '/content/nonexistent_sales_data.csv'\n",
        "    customer_data_path = '/content/nonexistent_customer_data.json'\n",
        "\n",
        "    sales_df = load_sales_data(sales_data_path)\n",
        "    customer_df = load_customer_data(customer_data_path)\n",
        "    assert sales_df is None, \"Sales Data: Expected None for missing file\"\n",
        "    assert customer_df is None, \"Customer Data: Expected None for missing file\"\n",
        "    print(\"Test Case 2 Passed: File Not Found\")\n"
      ],
      "metadata": {
        "id": "n6UYpe5MgYbk"
      },
      "execution_count": 49,
      "outputs": []
    },
    {
      "cell_type": "markdown",
      "source": [
        "**Test Case 3**"
      ],
      "metadata": {
        "id": "hfupMzRxgeSZ"
      }
    },
    {
      "cell_type": "code",
      "source": [
        "def test_malformed_data():\n",
        "    sales_data_path = '/content/malformed_sales_data.csv'\n",
        "    customer_data_path = '/content/malformed_customer_data.json'\n",
        "\n",
        "    with open(sales_data_path, 'w') as f:\n",
        "        f.write(\"SaleID,Amount,Date\\n1,200\\n2,300,2024-01-02\")\n",
        "    with open(customer_data_path, 'w') as f:\n",
        "        f.write(\"{'CustomerID': 1, 'Name': 'Alice', 'City': 'New York'\\n\")\n",
        "\n",
        "    sales_df = load_sales_data(sales_data_path)\n",
        "    customer_df = load_customer_data(customer_data_path)\n",
        "    assert sales_df is None, \"Sales Data: Expected None for malformed file\"\n",
        "    assert customer_df is None, \"Customer Data: Expected None for malformed file\"\n",
        "\n",
        "    import os\n",
        "    os.remove(sales_data_path)\n",
        "    os.remove(customer_data_path)\n",
        "    print(\"Test Case 3 Passed: Malformed Data\")\n"
      ],
      "metadata": {
        "id": "78X76vTigi8C"
      },
      "execution_count": 50,
      "outputs": []
    },
    {
      "cell_type": "markdown",
      "source": [
        "# **Data cleaning**"
      ],
      "metadata": {
        "id": "6iRAnoiLhi3b"
      }
    },
    {
      "cell_type": "markdown",
      "source": [
        "Data cleaning is crucial to ensuring the accuracy and reliability of any analysis. In the context of this project, which examines income distribution and membership duration, data cleaning ensures that the visualizations and insights reflect true trends. For instance, missing or inconsistent data—such as incomplete income values or inconsistent membership durations—could skew the results, leading to misleading conclusions. Cleaning the data by addressing missing values, standardizing formats, and removing duplicates ensures that the dataset is consistent and representative of the actual population. Moreover, handling outliers is essential, as extreme values can distort visualizations like the income distribution box plot or the membership duration histogram. By properly managing outliers, the visualizations become more reflective of the general trends, allowing for more accurate insights. Ultimately, data cleaning enhances the trustworthiness of the analysis, ensuring that the results—whether in terms of income categories or membership behavior—are reliable. Clean data leads to better decision-making, as businesses can confidently use the insights to tailor their strategies, whether for targeted marketing, customer segmentation, or retention plans. Therefore, data cleaning is not just a technical step but a vital process for generating actionable and meaningful insights."
      ],
      "metadata": {
        "id": "y37JfEYAUOEz"
      }
    },
    {
      "cell_type": "code",
      "source": [
        "import pandas as pd\n",
        "import json\n",
        "\n",
        "def load_customer_data(file_path):\n",
        "    \"\"\"\n",
        "    Load customer data from a JSON file and convert it to a pandas DataFrame.\n",
        "\n",
        "    Args:\n",
        "    - file_path (str): Path to the customer JSON file.\n",
        "\n",
        "    Returns:\n",
        "    - pd.DataFrame: DataFrame containing the customer data.\n",
        "    \"\"\"\n",
        "    with open(file_path, 'r') as file:\n",
        "        customer_data = pd.DataFrame([json.loads(line) for line in file])\n",
        "    return customer_data\n",
        "\n",
        "\n",
        "def load_sales_data(file_path):\n",
        "    \"\"\"\n",
        "    Load sales data from a CSV file and convert it to a pandas DataFrame.\n",
        "\n",
        "    Args:\n",
        "    - file_path (str): Path to the sales CSV file.\n",
        "\n",
        "    Returns:\n",
        "    - pd.DataFrame: DataFrame containing the sales data.\n",
        "    \"\"\"\n",
        "    sales_data = pd.read_csv(file_path)\n",
        "    return sales_data\n",
        "\n",
        "\n",
        "def clean_customer_data(df):\n",
        "    \"\"\"\n",
        "    Perform data cleaning operations on the customer data.\n",
        "\n",
        "    Cleaning Steps:\n",
        "    - Convert 'JoinDate' from epoch time to datetime format.\n",
        "    - Handle missing values with forward fill.\n",
        "    - Ensure correct data types for columns.\n",
        "\n",
        "    Args:\n",
        "    - df (pd.DataFrame): The customer data DataFrame.\n",
        "\n",
        "    Returns:\n",
        "    - pd.DataFrame: Cleaned customer data.\n",
        "    \"\"\"\n",
        "    # Convert 'JoinDate' from epoch time to datetime format\n",
        "    df['JoinDate'] = pd.to_datetime(df['JoinDate'], unit='ms')\n",
        "\n",
        "    # Handle missing values using forward fill\n",
        "    df.fillna(method='ffill', inplace=True)\n",
        "\n",
        "    # Ensure correct data types\n",
        "    df['Age'] = df['Age'].astype(int)\n",
        "\n",
        "    return df\n",
        "\n",
        "\n",
        "def clean_sales_data(df):\n",
        "    \"\"\"\n",
        "    Perform data cleaning operations on the sales data.\n",
        "\n",
        "    Cleaning Steps:\n",
        "    - Handle missing values by replacing NaN with 0.\n",
        "    - Ensure 'CustomerID' has the correct integer data type (if present).\n",
        "\n",
        "    Args:\n",
        "    - df (pd.DataFrame): The sales data DataFrame.\n",
        "\n",
        "    Returns:\n",
        "    - pd.DataFrame: Cleaned sales data.\n",
        "    \"\"\"\n",
        "    # Handle missing values by replacing NaN with 0\n",
        "    df.fillna(0, inplace=True)\n",
        "\n",
        "    # Ensure 'CustomerID' has the correct integer data type (if present)\n",
        "    if 'CustomerID' in df.columns:\n",
        "        df['CustomerID'] = df['CustomerID'].astype(int)\n",
        "\n",
        "    return df\n",
        "\n",
        "\n",
        "def save_cleaned_data(customer_df, sales_df, customer_output_path, sales_output_path):\n",
        "    \"\"\"\n",
        "    Save the cleaned customer and sales data to disk.\n",
        "\n",
        "    Args:\n",
        "    - customer_df (pd.DataFrame): Cleaned customer data.\n",
        "    - sales_df (pd.DataFrame): Cleaned sales data.\n",
        "    - customer_output_path (str): File path to save cleaned customer data.\n",
        "    - sales_output_path (str): File path to save cleaned sales data.\n",
        "\n",
        "    Returns:\n",
        "    - None\n",
        "    \"\"\"\n",
        "    customer_df.to_csv(customer_output_path, index=False)\n",
        "    sales_df.to_csv(sales_output_path, index=False)\n"
      ],
      "metadata": {
        "id": "kLHCy_wRh7IV"
      },
      "execution_count": 20,
      "outputs": []
    },
    {
      "cell_type": "code",
      "source": [
        "# File paths\n",
        "customer_data_path = \"/content/extended_customer_data.json\"\n",
        "sales_data_path = \"/content/extended_sales_data.csv\"\n",
        "\n",
        "# Load the datasets\n",
        "customer_data = load_customer_data(customer_data_path)\n",
        "sales_data = load_sales_data(sales_data_path)\n",
        "\n",
        "# Clean the datasets\n",
        "cleaned_customer_data = clean_customer_data(customer_data)\n",
        "cleaned_sales_data = clean_sales_data(sales_data)\n",
        "\n",
        "# Save the cleaned datasets\n",
        "save_cleaned_data(\n",
        "    cleaned_customer_data,\n",
        "    cleaned_sales_data,\n",
        "    \"/content/cleaned_customer_data.csv\",\n",
        "    \"/content/cleaned_sales_data.csv\"\n",
        ")\n",
        "\n",
        "# Print completion messages\n",
        "print(\"Data cleaning complete. Cleaned files saved:\")\n",
        "print(\"- Cleaned customer data: cleaned_customer_data.csv\")\n",
        "print(\"- Cleaned sales data: cleaned_sales_data.csv\")\n"
      ],
      "metadata": {
        "colab": {
          "base_uri": "https://localhost:8080/"
        },
        "id": "7NLw4HwBijy_",
        "outputId": "22ed2be3-8467-4dc2-de88-dbdcd595a1d6"
      },
      "execution_count": 21,
      "outputs": [
        {
          "output_type": "stream",
          "name": "stdout",
          "text": [
            "Data cleaning complete. Cleaned files saved:\n",
            "- Cleaned customer data: cleaned_customer_data.csv\n",
            "- Cleaned sales data: cleaned_sales_data.csv\n"
          ]
        },
        {
          "output_type": "stream",
          "name": "stderr",
          "text": [
            "<ipython-input-20-e73ef01c0e69>:52: FutureWarning: DataFrame.fillna with 'method' is deprecated and will raise in a future version. Use obj.ffill() or obj.bfill() instead.\n",
            "  df.fillna(method='ffill', inplace=True)\n"
          ]
        }
      ]
    },
    {
      "cell_type": "markdown",
      "source": [
        "**Test Case 1**"
      ],
      "metadata": {
        "id": "HZ7RYtNYhE5p"
      }
    },
    {
      "cell_type": "code",
      "source": [
        "def test_valid_data_loading_and_cleaning():\n",
        "    customer_data_path = \"/content/valid_customer_data.json\"\n",
        "    sales_data_path = \"/content/valid_sales_data.csv\"\n",
        "\n",
        "    # Prepare mock data\n",
        "    customer_data = pd.DataFrame({\n",
        "        'CustomerID': [1, 2],\n",
        "        'JoinDate': [1625097600000, 1625184000000],  # Epoch time\n",
        "        'Age': [25, 30],\n",
        "        'Name': ['Alice', 'Bob'],\n",
        "    })\n",
        "    sales_data = pd.DataFrame({\n",
        "        'SaleID': [1, 2],\n",
        "        'CustomerID': [1, 2],\n",
        "        'Amount': [100, 200],\n",
        "    })\n",
        "\n",
        "    customer_data.to_json(customer_data_path, orient=\"records\", lines=True)\n",
        "    sales_data.to_csv(sales_data_path, index=False)\n",
        "\n",
        "    # Load and clean the data\n",
        "    customer_df = load_customer_data(customer_data_path)\n",
        "    sales_df = load_sales_data(sales_data_path)\n",
        "    cleaned_customer_df = clean_customer_data(customer_df)\n",
        "    cleaned_sales_df = clean_sales_data(sales_df)\n",
        "\n",
        "    assert cleaned_customer_df['Age'].dtype == int, \"Customer Age should be integer\"\n",
        "    assert 'JoinDate' in cleaned_customer_df.columns, \"JoinDate column should exist\"\n",
        "    assert cleaned_sales_df['CustomerID'].dtype == int, \"Sales CustomerID should be integer\"\n",
        "\n",
        "    import os\n",
        "    os.remove(customer_data_path)\n",
        "    os.remove(sales_data_path)\n",
        "    print(\"Test Case 1 Passed: Valid Data Loading and Cleaning\")\n"
      ],
      "metadata": {
        "id": "1Eyb_FJ-hDJM"
      },
      "execution_count": 51,
      "outputs": []
    },
    {
      "cell_type": "markdown",
      "source": [
        "**Test Case 2**"
      ],
      "metadata": {
        "id": "nPZ4bXXThV-8"
      }
    },
    {
      "cell_type": "code",
      "source": [
        "def test_missing_data_handling():\n",
        "    customer_data_path = \"/content/missing_customer_data.json\"\n",
        "    sales_data_path = \"/content/missing_sales_data.csv\"\n",
        "\n",
        "    # Prepare mock data with missing values\n",
        "    customer_data = pd.DataFrame({\n",
        "        'CustomerID': [1, 2],\n",
        "        'JoinDate': [1625097600000, None],\n",
        "        'Age': [None, 30],\n",
        "        'Name': ['Alice', 'Bob'],\n",
        "    })\n",
        "    sales_data = pd.DataFrame({\n",
        "        'SaleID': [1, 2],\n",
        "        'CustomerID': [1, None],\n",
        "        'Amount': [None, 200],\n",
        "    })\n",
        "\n",
        "    customer_data.to_json(customer_data_path, orient=\"records\", lines=True)\n",
        "    sales_data.to_csv(sales_data_path, index=False)\n",
        "\n",
        "    # Load and clean the data\n",
        "    customer_df = load_customer_data(customer_data_path)\n",
        "    sales_df = load_sales_data(sales_data_path)\n",
        "    cleaned_customer_df = clean_customer_data(customer_df)\n",
        "    cleaned_sales_df = clean_sales_data(sales_df)\n",
        "\n",
        "    assert cleaned_customer_df['Age'].isnull().sum() == 0, \"Missing Age should be filled\"\n",
        "    assert cleaned_sales_df['Amount'].isnull().sum() == 0, \"Missing Amount should be filled\"\n",
        "\n",
        "    import os\n",
        "    os.remove(customer_data_path)\n",
        "    os.remove(sales_data_path)\n",
        "    print(\"Test Case 2 Passed: Missing Data Handling\")\n"
      ],
      "metadata": {
        "id": "dc9ppHsuhZeC"
      },
      "execution_count": 52,
      "outputs": []
    },
    {
      "cell_type": "markdown",
      "source": [
        "# **Data Merging**"
      ],
      "metadata": {
        "id": "JLJ3sSQUlUPr"
      }
    },
    {
      "cell_type": "markdown",
      "source": [
        "**Code merging**: Combining changes from different contributors or branches.\n",
        "\n",
        "**Data merging**: Merging dataframes, datasets, or other forms of structured data.\n",
        "Something else specific to this notebook?\n",
        "Let me take a look at the file contents to provide more targeted insights.\n",
        "\n",
        "The uploaded file is a Jupyter Notebook, consisting of the following main sections:\n",
        "\n",
        "**Notebook format**: Version details (nbformat and nbformat_minor).\n",
        "Metadata: General notebook information (e.g., kernel or configuration).\n",
        "Cells: The primary content, including code, markdown, or outputs.\n",
        "Merging in the context of this file could involve:\n",
        "\n",
        "**Code merging**: If multiple versions of this notebook exist, combining edits made by different collaborators.\n",
        "Data or content merging: If the cells contain data processing or analysis, merging datasets or incorporating results."
      ],
      "metadata": {
        "id": "tdPAayF4kyDK"
      }
    },
    {
      "cell_type": "code",
      "source": [
        "import pandas as pd\n",
        "\n",
        "def load_cleaned_data(customer_data_path, sales_data_path):\n",
        "    \"\"\"\n",
        "    Load cleaned customer and sales datasets from their respective file paths.\n",
        "\n",
        "    Args:\n",
        "    - customer_data_path (str): File path for the cleaned customer data.\n",
        "    - sales_data_path (str): File path for the cleaned sales data.\n",
        "\n",
        "    Returns:\n",
        "    - tuple: A tuple containing two pandas DataFrames:\n",
        "        - customer_data (pd.DataFrame): Cleaned customer data.\n",
        "        - sales_data (pd.DataFrame): Cleaned sales data.\n",
        "    \"\"\"\n",
        "    customer_data = pd.read_csv(customer_data_path)\n",
        "    sales_data = pd.read_csv(sales_data_path)\n",
        "    return customer_data, sales_data\n",
        "\n",
        "\n",
        "def merge_datasets(customer_data, sales_data, output_path):\n",
        "    \"\"\"\n",
        "    Merge the customer and sales datasets on 'CustomerID' and save the result.\n",
        "\n",
        "    Args:\n",
        "    - customer_data (pd.DataFrame): Cleaned customer data DataFrame.\n",
        "    - sales_data (pd.DataFrame): Cleaned sales data DataFrame.\n",
        "    - output_path (str): File path to save the merged data.\n",
        "\n",
        "    Returns:\n",
        "    - pd.DataFrame: The merged DataFrame.\n",
        "    \"\"\"\n",
        "    # Perform the merge operation\n",
        "    merged_data = pd.merge(customer_data, sales_data, on=\"CustomerID\", how=\"inner\")\n",
        "\n",
        "    # Save the merged data to a CSV file\n",
        "    merged_data.to_csv(output_path, index=False)\n",
        "\n",
        "    return merged_data\n",
        "\n",
        "\n",
        "def preview_data(df, num_rows=5):\n",
        "    \"\"\"\n",
        "    Print a preview of the DataFrame.\n",
        "\n",
        "    Args:\n",
        "    - df (pd.DataFrame): The DataFrame to preview.\n",
        "    - num_rows (int): The number of rows to display. Default is 5.\n",
        "\n",
        "    Returns:\n",
        "    - None\n",
        "    \"\"\"\n",
        "    print(\"Data Preview:\")\n",
        "    print(df.head(num_rows))\n",
        "\n",
        "\n",
        "# File paths for cleaned data\n",
        "cleaned_customer_data_path = \"/content/cleaned_customer_data.csv\"\n",
        "cleaned_sales_data_path = \"/content/cleaned_sales_data.csv\"\n",
        "output_merged_data_path = \"/content/merged_cleaned_data.csv\"\n",
        "\n",
        "# Load the cleaned datasets\n",
        "customer_data, sales_data = load_cleaned_data(cleaned_customer_data_path, cleaned_sales_data_path)\n",
        "\n",
        "# Merge the datasets\n",
        "merged_data = merge_datasets(customer_data, sales_data, output_merged_data_path)\n",
        "\n",
        "# Preview the merged data\n",
        "preview_data(merged_data)\n",
        "\n",
        "print(f\"\\nMerged data saved to '{output_merged_data_path}'\")\n"
      ],
      "metadata": {
        "colab": {
          "base_uri": "https://localhost:8080/"
        },
        "id": "H2skkyN-i_m0",
        "outputId": "491acbe9-e0f4-4abe-f802-73ad49555fa9"
      },
      "execution_count": 22,
      "outputs": [
        {
          "output_type": "stream",
          "name": "stdout",
          "text": [
            "Data Preview:\n",
            "   CustomerID  Age  Gender  Income      City SubscriptionPlan    JoinDate  \\\n",
            "0         123   37  Female   35116  New York             Gold  2024-06-15   \n",
            "1         123   37  Female   35116  New York             Gold  2024-06-15   \n",
            "2         123   37  Female   35116  New York             Gold  2024-06-15   \n",
            "3         123   37  Female   35116  New York             Gold  2024-06-15   \n",
            "4         123   37  Female   35116  New York             Gold  2024-06-15   \n",
            "\n",
            "   TransactionID        Date   Product  Amount  Quantity  PaymentMethod  \\\n",
            "0           1022  2025-07-27  Keyboard    1813         2         PayPal   \n",
            "1           1026  2025-03-20   Charger    1441         4           Cash   \n",
            "2           1052  2025-01-05    Laptop    1008         2         PayPal   \n",
            "3           1079  2026-05-17  Keyboard    1023         3  Bank Transfer   \n",
            "4           1084  2025-03-12  Keyboard     192         4  Bank Transfer   \n",
            "\n",
            "   StoreLocation  \n",
            "0  San Francisco  \n",
            "1        Chicago  \n",
            "2       New York  \n",
            "3  San Francisco  \n",
            "4        Chicago  \n",
            "\n",
            "Merged data saved to '/content/merged_cleaned_data.csv'\n"
          ]
        }
      ]
    },
    {
      "cell_type": "markdown",
      "source": [
        "**Test Case 1**"
      ],
      "metadata": {
        "id": "vdOv37Ghh9KK"
      }
    },
    {
      "cell_type": "code",
      "source": [
        "def test_valid_data_merge():\n",
        "    customer_data_path = \"/content/valid_customer_data.csv\"\n",
        "    sales_data_path = \"/content/valid_sales_data.csv\"\n",
        "    merged_data_path = \"/content/merged_valid_data.csv\"\n",
        "\n",
        "    customer_data = pd.DataFrame({\n",
        "        'CustomerID': [1, 2],\n",
        "        'Name': ['Alice', 'Bob'],\n",
        "        'Age': [25, 30]\n",
        "    })\n",
        "    sales_data = pd.DataFrame({\n",
        "        'SaleID': [1, 2],\n",
        "        'CustomerID': [1, 2],\n",
        "        'Amount': [100, 200]\n",
        "    })\n",
        "\n",
        "    customer_data.to_csv(customer_data_path, index=False)\n",
        "    sales_data.to_csv(sales_data_path, index=False)\n",
        "\n",
        "    customer_df, sales_df = load_cleaned_data(customer_data_path, sales_data_path)\n",
        "    merged_df = merge_datasets(customer_df, sales_df, merged_data_path)\n",
        "\n",
        "    assert merged_df.shape == (2, 5), \"Merged data shape mismatch\"\n",
        "    assert 'CustomerID' in merged_df.columns, \"Merged data should contain 'CustomerID'\"\n",
        "\n",
        "    import os\n",
        "    os.remove(customer_data_path)\n",
        "    os.remove(sales_data_path)\n",
        "    os.remove(merged_data_path)\n",
        "    print(\"Test Case 1 Passed: Valid Data Merge\")\n"
      ],
      "metadata": {
        "id": "IvXs8tPCh_D7"
      },
      "execution_count": 54,
      "outputs": []
    },
    {
      "cell_type": "markdown",
      "source": [
        "**Test Case 2**"
      ],
      "metadata": {
        "id": "CUzRBSZKiEli"
      }
    },
    {
      "cell_type": "code",
      "source": [
        "def test_empty_datasets():\n",
        "    customer_data_path = \"/content/empty_customer_data.csv\"\n",
        "    sales_data_path = \"/content/empty_sales_data.csv\"\n",
        "    merged_data_path = \"/content/merged_empty_data.csv\"\n",
        "\n",
        "    customer_data = pd.DataFrame(columns=['CustomerID', 'Name', 'Age'])\n",
        "    sales_data = pd.DataFrame(columns=['SaleID', 'CustomerID', 'Amount'])\n",
        "\n",
        "    customer_data.to_csv(customer_data_path, index=False)\n",
        "    sales_data.to_csv(sales_data_path, index=False)\n",
        "\n",
        "    customer_df, sales_df = load_cleaned_data(customer_data_path, sales_data_path)\n",
        "    merged_df = merge_datasets(customer_df, sales_df, merged_data_path)\n",
        "\n",
        "    assert merged_df.shape == (0, 5), \"Merged data shape should be (0, 5) for empty datasets\"\n",
        "    assert merged_df.empty, \"Merged data should be empty\"\n",
        "\n",
        "    import os\n",
        "    os.remove(customer_data_path)\n",
        "    os.remove(sales_data_path)\n",
        "    os.remove(merged_data_path)\n",
        "    print(\"Test Case 2 Passed: Empty Datasets\")\n"
      ],
      "metadata": {
        "id": "WKVy6tRdiGIX"
      },
      "execution_count": 55,
      "outputs": []
    },
    {
      "cell_type": "markdown",
      "source": [
        "**Test Case 3**"
      ],
      "metadata": {
        "id": "vfoSV6q_iJKv"
      }
    },
    {
      "cell_type": "code",
      "source": [
        "def test_mismatched_customerid():\n",
        "    customer_data_path = \"/content/mismatched_customer_data.csv\"\n",
        "    sales_data_path = \"/content/mismatched_sales_data.csv\"\n",
        "    merged_data_path = \"/content/merged_mismatched_data.csv\"\n",
        "\n",
        "    customer_data = pd.DataFrame({\n",
        "        'CustomerID': [1, 2],\n",
        "        'Name': ['Alice', 'Bob'],\n",
        "        'Age': [25, 30]\n",
        "    })\n",
        "    sales_data = pd.DataFrame({\n",
        "        'SaleID': [1, 2],\n",
        "        'CustomerID': [3, 4],  # Different CustomerID\n",
        "        'Amount': [100, 200]\n",
        "    })\n",
        "\n",
        "    customer_data.to_csv(customer_data_path, index=False)\n",
        "    sales_data.to_csv(sales_data_path, index=False)\n",
        "\n",
        "    customer_df, sales_df = load_cleaned_data(customer_data_path, sales_data_path)\n",
        "    merged_df = merge_datasets(customer_df, sales_df, merged_data_path)\n",
        "\n",
        "    assert merged_df.shape == (0, 5), \"Merged data should be empty for mismatched CustomerID\"\n",
        "    assert merged_df.empty, \"Merged data should be empty due to mismatched CustomerID\"\n",
        "\n",
        "    import os\n",
        "    os.remove(customer_data_path)\n",
        "    os.remove(sales_data_path)\n",
        "    os.remove(merged_data_path)\n",
        "    print(\"Test Case 3 Passed: Mismatched CustomerID\")\n"
      ],
      "metadata": {
        "id": "L2-UzQjiiPFz"
      },
      "execution_count": 56,
      "outputs": []
    },
    {
      "cell_type": "markdown",
      "source": [
        "# **Data Aggregation and Pivoting**"
      ],
      "metadata": {
        "id": "7iedeOXJjJkN"
      }
    },
    {
      "cell_type": "markdown",
      "source": [
        "Functions for Data Loading, Aggregation, Pivoting, and Saving"
      ],
      "metadata": {
        "id": "-0ZEEj2UjuzD"
      }
    },
    {
      "cell_type": "markdown",
      "source": [
        "1. **Data Aggregation**\n",
        "Aggregation involves summarizing data by applying functions like sum, mean, median, count, etc., to groups of data. It is essential because:\n",
        "\n",
        "Simplifies Data: Reduces large datasets into meaningful summaries.\n",
        "\n",
        "Example: Summing up total sales by region or calculating the average score of students in a subject.\n",
        "Highlights Trends: Aggregation makes patterns and trends visible, aiding decision-making.\n",
        "\n",
        "Example: Observing monthly revenue growth in a business.\n",
        "Facilitates Comparisons: By aggregating data into groups, comparisons across categories become easier.\n",
        "\n",
        "Example: Comparing average income across countries.\n",
        "Supports Further Analysis: Aggregated data is often the starting point for advanced analytics, such as machine learning.\n",
        "\n",
        "**2. Pivoting**\n",
        "\n",
        "Pivoting rearranges data to focus on specific dimensions or attributes, making it more interpretable. It is important for:\n",
        "\n",
        "Data Reshaping: Helps you transform data into a more meaningful structure.\n",
        "\n",
        "Example: Turning a dataset with sales across regions and time into a pivot table showing regions as rows and months as columns.\n",
        "Efficient Reporting: Creates clean and readable summaries, like pivot tables in Excel or pandas.\n",
        "\n",
        "Example: A pivot table showing product categories as rows and sales channels as columns.\n",
        "Exploratory Data Analysis (EDA): Pivoting makes it easier to slice and dice data for deeper insights.\n",
        "\n",
        "Example: Analyzing trends across different customer demographics.\n",
        "Customizable Views: Enables creating dynamic summaries to answer specific business questions.\n",
        "\n",
        "Example: Viewing sales data grouped by products for a particular time frame."
      ],
      "metadata": {
        "id": "WodMoohQl3v3"
      }
    },
    {
      "cell_type": "code",
      "source": [
        "import pandas as pd\n",
        "\n",
        "def load_merged_data(file_path):\n",
        "    \"\"\"\n",
        "    Load the merged data from a CSV file.\n",
        "\n",
        "    Args:\n",
        "    - file_path (str): The file path of the merged data.\n",
        "\n",
        "    Returns:\n",
        "    - pd.DataFrame: A pandas DataFrame containing the merged data.\n",
        "    \"\"\"\n",
        "    return pd.read_csv(file_path)\n",
        "\n",
        "\n",
        "def aggregate_data_by_subscription_plan(df):\n",
        "    \"\"\"\n",
        "    Perform aggregation to calculate the total income by subscription plan.\n",
        "\n",
        "    Args:\n",
        "    - df (pd.DataFrame): The merged data DataFrame.\n",
        "\n",
        "    Returns:\n",
        "    - pd.DataFrame: A DataFrame with total income grouped by subscription plan.\n",
        "    \"\"\"\n",
        "    aggregated_data = df.groupby('SubscriptionPlan')['Income'].sum().reset_index()\n",
        "    aggregated_data.rename(columns={'Income': 'TotalIncome'}, inplace=True)\n",
        "    return aggregated_data\n",
        "\n",
        "\n",
        "def pivot_average_income_by_city_and_plan(df):\n",
        "    \"\"\"\n",
        "    Create a pivot table showing average income by city and subscription plan.\n",
        "\n",
        "    Args:\n",
        "    - df (pd.DataFrame): The merged data DataFrame.\n",
        "\n",
        "    Returns:\n",
        "    - pd.DataFrame: A pivot table with average income by city and subscription plan.\n",
        "    \"\"\"\n",
        "    pivot_table = df.pivot_table(\n",
        "        index='City',\n",
        "        columns='SubscriptionPlan',\n",
        "        values='Income',\n",
        "        aggfunc='mean'\n",
        "    ).fillna(0)\n",
        "    return pivot_table\n",
        "\n",
        "\n",
        "def aggregate_customer_count_by_city_and_gender(df):\n",
        "    \"\"\"\n",
        "    Perform aggregation to calculate the count of customers by city and gender.\n",
        "\n",
        "    Args:\n",
        "    - df (pd.DataFrame): The merged data DataFrame.\n",
        "\n",
        "    Returns:\n",
        "    - pd.DataFrame: A DataFrame with customer counts grouped by city and gender.\n",
        "    \"\"\"\n",
        "    aggregated_data = df.groupby(['City', 'Gender'])['CustomerID'].count().reset_index()\n",
        "    aggregated_data.rename(columns={'CustomerID': 'CustomerCount'}, inplace=True)\n",
        "    return aggregated_data\n",
        "\n",
        "\n",
        "def pivot_total_income_by_city_and_gender(df):\n",
        "    \"\"\"\n",
        "    Create a pivot table showing total income by city and gender.\n",
        "\n",
        "    Args:\n",
        "    - df (pd.DataFrame): The merged data DataFrame.\n",
        "\n",
        "    Returns:\n",
        "    - pd.DataFrame: A pivot table with total income by city and gender.\n",
        "    \"\"\"\n",
        "    pivot_table = df.pivot_table(\n",
        "        index='City',\n",
        "        columns='Gender',\n",
        "        values='Income',\n",
        "        aggfunc='sum'\n",
        "    ).fillna(0)\n",
        "    return pivot_table\n",
        "\n",
        "\n",
        "def save_results(dataframes, file_paths):\n",
        "    \"\"\"\n",
        "    Save the given DataFrames to the specified file paths.\n",
        "\n",
        "    Args:\n",
        "    - dataframes (list of pd.DataFrame): List of DataFrames to save.\n",
        "    - file_paths (list of str): Corresponding file paths to save the DataFrames.\n",
        "\n",
        "    Returns:\n",
        "    - None\n",
        "    \"\"\"\n",
        "    for df, path in zip(dataframes, file_paths):\n",
        "        if isinstance(df, pd.DataFrame):\n",
        "            df.to_csv(path, index=False if 'pivot' not in path else True)\n"
      ],
      "metadata": {
        "id": "T1xmdjvyjKDm"
      },
      "execution_count": 23,
      "outputs": []
    },
    {
      "cell_type": "markdown",
      "source": [
        "**Load** **Data and Perform Aggregation and Pivoting**"
      ],
      "metadata": {
        "id": "MFRyclaVj3wF"
      }
    },
    {
      "cell_type": "code",
      "source": [
        "# File path for the merged data\n",
        "merged_data_path = \"/content/merged_cleaned_data.csv\"\n",
        "\n",
        "# Load the merged data\n",
        "merged_data = load_merged_data(merged_data_path)\n",
        "\n",
        "# Perform aggregation and pivoting\n",
        "aggregated_data_1 = aggregate_data_by_subscription_plan(merged_data)\n",
        "pivot_data_1 = pivot_average_income_by_city_and_plan(merged_data)\n",
        "aggregated_data_2 = aggregate_customer_count_by_city_and_gender(merged_data)\n",
        "pivot_data_2 = pivot_total_income_by_city_and_gender(merged_data)\n"
      ],
      "metadata": {
        "id": "NdFn-lq5j4e8"
      },
      "execution_count": 24,
      "outputs": []
    },
    {
      "cell_type": "markdown",
      "source": [
        "**Save Results and Display Outputs**"
      ],
      "metadata": {
        "id": "ENXYdy2Aj7YG"
      }
    },
    {
      "cell_type": "code",
      "source": [
        "# Save the results to CSV files\n",
        "save_results(\n",
        "    [aggregated_data_1, pivot_data_1, aggregated_data_2, pivot_data_2],\n",
        "    [\n",
        "        \"/content/aggregated_data_1.csv\",\n",
        "        \"/content/pivot_data_1.csv\",\n",
        "        \"/content/aggregated_data_2.csv\",\n",
        "        \"/content/pivot_data_2.csv\"\n",
        "    ]\n",
        ")\n",
        "\n",
        "# Print results and save locations\n",
        "print(\"Merged Data Sample:\")\n",
        "print(merged_data.head())\n",
        "\n",
        "print(\"\\nAggregated Data 1: Total Income by Subscription Plan\")\n",
        "print(aggregated_data_1)\n",
        "\n",
        "print(\"\\nPivot Data 1: Average Income by City and Subscription Plan\")\n",
        "print(pivot_data_1)\n",
        "\n",
        "print(\"\\nAggregated Data 2: Customer Count by City and Gender\")\n",
        "print(aggregated_data_2)\n",
        "\n",
        "print(\"\\nPivot Data 2: Total Income by City and Gender\")\n",
        "print(pivot_data_2)\n",
        "\n",
        "print(\"\\nAggregation and pivoting complete. Results saved to:\")\n",
        "print(\"- Aggregated Data 1: /content/aggregated_data_1.csv\")\n",
        "print(\"- Pivot Data 1: /content/pivot_data_1.csv\")\n",
        "print(\"- Aggregated Data 2: /content/aggregated_data_2.csv\")\n",
        "print(\"- Pivot Data 2: /content/pivot_data_2.csv\")\n"
      ],
      "metadata": {
        "colab": {
          "base_uri": "https://localhost:8080/"
        },
        "id": "txGKwYISj7ws",
        "outputId": "0cfa2781-7d93-475b-c52e-953dd81cc964"
      },
      "execution_count": 25,
      "outputs": [
        {
          "output_type": "stream",
          "name": "stdout",
          "text": [
            "Merged Data Sample:\n",
            "   CustomerID  Age  Gender  Income      City SubscriptionPlan    JoinDate  \\\n",
            "0         123   37  Female   35116  New York             Gold  2024-06-15   \n",
            "1         123   37  Female   35116  New York             Gold  2024-06-15   \n",
            "2         123   37  Female   35116  New York             Gold  2024-06-15   \n",
            "3         123   37  Female   35116  New York             Gold  2024-06-15   \n",
            "4         123   37  Female   35116  New York             Gold  2024-06-15   \n",
            "\n",
            "   TransactionID        Date   Product  Amount  Quantity  PaymentMethod  \\\n",
            "0           1022  2025-07-27  Keyboard    1813         2         PayPal   \n",
            "1           1026  2025-03-20   Charger    1441         4           Cash   \n",
            "2           1052  2025-01-05    Laptop    1008         2         PayPal   \n",
            "3           1079  2026-05-17  Keyboard    1023         3  Bank Transfer   \n",
            "4           1084  2025-03-12  Keyboard     192         4  Bank Transfer   \n",
            "\n",
            "   StoreLocation  \n",
            "0  San Francisco  \n",
            "1        Chicago  \n",
            "2       New York  \n",
            "3  San Francisco  \n",
            "4        Chicago  \n",
            "\n",
            "Aggregated Data 1: Total Income by Subscription Plan\n",
            "  SubscriptionPlan  TotalIncome\n",
            "0            Basic     20243103\n",
            "1             Gold     30394659\n",
            "2          Premium      9645716\n",
            "\n",
            "Pivot Data 1: Average Income by City and Subscription Plan\n",
            "SubscriptionPlan         Basic          Gold  Premium\n",
            "City                                                 \n",
            "Chicago               0.000000  80139.000000      0.0\n",
            "Los Angeles       46327.000000  53319.757895  46905.0\n",
            "Miami             73174.555556  92603.000000  55709.0\n",
            "New York              0.000000  35116.000000      0.0\n",
            "\n",
            "Aggregated Data 2: Customer Count by City and Gender\n",
            "          City  Gender  CustomerCount\n",
            "0      Chicago  Female             96\n",
            "1  Los Angeles  Female             94\n",
            "2  Los Angeles    Male            300\n",
            "3        Miami  Female             94\n",
            "4        Miami    Male            298\n",
            "5     New York  Female            118\n",
            "\n",
            "Pivot Data 2: Total Income by City and Gender\n",
            "Gender          Female        Male\n",
            "City                              \n",
            "Chicago      7693344.0         0.0\n",
            "Los Angeles  4409070.0  15226724.0\n",
            "Miami        5236646.0  23574006.0\n",
            "New York     4143688.0         0.0\n",
            "\n",
            "Aggregation and pivoting complete. Results saved to:\n",
            "- Aggregated Data 1: /content/aggregated_data_1.csv\n",
            "- Pivot Data 1: /content/pivot_data_1.csv\n",
            "- Aggregated Data 2: /content/aggregated_data_2.csv\n",
            "- Pivot Data 2: /content/pivot_data_2.csv\n"
          ]
        }
      ]
    },
    {
      "cell_type": "markdown",
      "source": [
        "**Test Case 1**"
      ],
      "metadata": {
        "id": "-8Oi-l-Aikae"
      }
    },
    {
      "cell_type": "code",
      "source": [
        "def test_aggregation_by_subscription_plan():\n",
        "    merged_data = pd.DataFrame({\n",
        "        'SubscriptionPlan': ['Basic', 'Premium', 'Basic', 'Premium', 'Basic'],\n",
        "        'Income': [100, 200, 150, 250, 200],\n",
        "        'City': ['CityA', 'CityA', 'CityB', 'CityB', 'CityC'],\n",
        "        'CustomerID': [1, 2, 3, 4, 5],\n",
        "        'Gender': ['F', 'M', 'F', 'M', 'F']\n",
        "    })\n",
        "\n",
        "    aggregated_data = aggregate_data_by_subscription_plan(merged_data)\n",
        "    assert aggregated_data.shape == (2, 2), \"Aggregation by subscription plan failed\"\n",
        "    assert 'TotalIncome' in aggregated_data.columns, \"Missing 'TotalIncome' column\"\n",
        "    print(\"Test Case 1 Passed: Aggregation by Subscription Plan\")\n"
      ],
      "metadata": {
        "id": "bDx_m0u-iyG4"
      },
      "execution_count": 57,
      "outputs": []
    },
    {
      "cell_type": "markdown",
      "source": [
        "**Test Case 2**"
      ],
      "metadata": {
        "id": "FAcOEfWVi16E"
      }
    },
    {
      "cell_type": "code",
      "source": [
        "def test_pivot_average_income_by_city_and_plan():\n",
        "    merged_data = pd.DataFrame({\n",
        "        'SubscriptionPlan': ['Basic', 'Premium', 'Basic', 'Premium', 'Basic'],\n",
        "        'Income': [100, 200, 150, 250, 200],\n",
        "        'City': ['CityA', 'CityA', 'CityB', 'CityB', 'CityC'],\n",
        "        'CustomerID': [1, 2, 3, 4, 5],\n",
        "        'Gender': ['F', 'M', 'F', 'M', 'F']\n",
        "    })\n",
        "\n",
        "    pivot_data = pivot_average_income_by_city_and_plan(merged_data)\n",
        "    assert pivot_data.shape == (3, 2), \"Pivot table for average income failed\"\n",
        "    assert pivot_data.index.name == 'City', \"Index name should be 'City'\"\n",
        "    print(\"Test Case 2 Passed: Pivot Table for Average Income by City and Subscription Plan\")\n"
      ],
      "metadata": {
        "id": "Sfh-5iC3i4vX"
      },
      "execution_count": 58,
      "outputs": []
    },
    {
      "cell_type": "markdown",
      "source": [
        "**Test Case 3**"
      ],
      "metadata": {
        "id": "35cN0csxi9a0"
      }
    },
    {
      "cell_type": "code",
      "source": [
        "def test_aggregation_customer_count_by_city_and_gender():\n",
        "    merged_data = pd.DataFrame({\n",
        "        'SubscriptionPlan': ['Basic', 'Premium', 'Basic', 'Premium', 'Basic'],\n",
        "        'Income': [100, 200, 150, 250, 200],\n",
        "        'City': ['CityA', 'CityA', 'CityB', 'CityB', 'CityC'],\n",
        "        'CustomerID': [1, 2, 3, 4, 5],\n",
        "        'Gender': ['F', 'M', 'F', 'M', 'F']\n",
        "    })\n",
        "\n",
        "    aggregated_data = aggregate_customer_count_by_city_and_gender(merged_data)\n",
        "    assert aggregated_data.shape == (4, 3), \"Aggregation by customer count failed\"\n",
        "    assert 'CustomerCount' in aggregated_data.columns, \"Missing 'CustomerCount' column\"\n",
        "    print(\"Test Case 3 Passed: Aggregation for Customer Count by City and Gender\")\n"
      ],
      "metadata": {
        "id": "rEJmZqSMjAUD"
      },
      "execution_count": 59,
      "outputs": []
    },
    {
      "cell_type": "markdown",
      "source": [
        "# **Data Transformation**"
      ],
      "metadata": {
        "id": "lZEoZTLdkLgc"
      }
    },
    {
      "cell_type": "markdown",
      "source": [
        "**Preparing Raw Data for Analysis:**\n",
        "\n",
        "Raw data often contains inconsistencies, missing values, or irrelevant features. Data transformation ensures the dataset is clean and structured appropriately for analysis or modeling.\n",
        "\n",
        "**Improving Data Usability:**\n",
        "\n",
        "Transformation techniques (e.g., normalization, scaling, encoding categorical variables) standardize data and make it compatible with analytical methods, machine learning models, or statistical tests.\n",
        "\n",
        "**Feature Engineering:**\n",
        "\n",
        "Creating new variables or modifying existing ones (e.g., aggregations, log transformations, or creating dummy variables) can reveal patterns that improve model performance.\n",
        "\n",
        "**Data Integration:**\n",
        "\n",
        "If your notebook integrates data from multiple sources, transformations ensure alignment in formats, units, and structures, enabling a cohesive analysis.\n",
        "\n",
        "**Visualization and Reporting:**\n",
        "\n",
        "Transforming data into a format suitable for charts, summaries, or reports makes results easier to interpret and communicate.\n",
        "\n",
        "**Optimizing Model Performance:**\n",
        "\n",
        "Many models (e.g., linear regression, neural networks) assume specific data distributions. Transformations like scaling or power transformations ensure these assumptions are met."
      ],
      "metadata": {
        "id": "bnZTMrr5mda0"
      }
    },
    {
      "cell_type": "markdown",
      "source": [
        "**Load and Preview Data**"
      ],
      "metadata": {
        "id": "KeK65b0ikmUE"
      }
    },
    {
      "cell_type": "code",
      "source": [
        "import pandas as pd\n",
        "\n",
        "# File path for the merged data\n",
        "merged_data_path = \"/content/merged_cleaned_data.csv\"\n",
        "\n",
        "def load_data(file_path):\n",
        "    \"\"\"\n",
        "    Load data from a CSV file into a pandas DataFrame.\n",
        "\n",
        "    Args:\n",
        "    - file_path (str): The file path of the CSV file.\n",
        "\n",
        "    Returns:\n",
        "    - pd.DataFrame: A pandas DataFrame containing the loaded data.\n",
        "    \"\"\"\n",
        "    return pd.read_csv(file_path)\n",
        "\n",
        "# Load the merged data\n",
        "merged_data = load_data(merged_data_path)\n",
        "\n",
        "# Preview the original data\n",
        "print(\"Original Data Sample:\")\n",
        "print(merged_data.head())\n"
      ],
      "metadata": {
        "colab": {
          "base_uri": "https://localhost:8080/"
        },
        "id": "a4rhUVEzknTh",
        "outputId": "1ec3c090-47c8-48a3-e154-8b1b157128c9"
      },
      "execution_count": 26,
      "outputs": [
        {
          "output_type": "stream",
          "name": "stdout",
          "text": [
            "Original Data Sample:\n",
            "   CustomerID  Age  Gender  Income      City SubscriptionPlan    JoinDate  \\\n",
            "0         123   37  Female   35116  New York             Gold  2024-06-15   \n",
            "1         123   37  Female   35116  New York             Gold  2024-06-15   \n",
            "2         123   37  Female   35116  New York             Gold  2024-06-15   \n",
            "3         123   37  Female   35116  New York             Gold  2024-06-15   \n",
            "4         123   37  Female   35116  New York             Gold  2024-06-15   \n",
            "\n",
            "   TransactionID        Date   Product  Amount  Quantity  PaymentMethod  \\\n",
            "0           1022  2025-07-27  Keyboard    1813         2         PayPal   \n",
            "1           1026  2025-03-20   Charger    1441         4           Cash   \n",
            "2           1052  2025-01-05    Laptop    1008         2         PayPal   \n",
            "3           1079  2026-05-17  Keyboard    1023         3  Bank Transfer   \n",
            "4           1084  2025-03-12  Keyboard     192         4  Bank Transfer   \n",
            "\n",
            "   StoreLocation  \n",
            "0  San Francisco  \n",
            "1        Chicago  \n",
            "2       New York  \n",
            "3  San Francisco  \n",
            "4        Chicago  \n"
          ]
        }
      ]
    },
    {
      "cell_type": "markdown",
      "source": [
        "**Transform Data**"
      ],
      "metadata": {
        "id": "rjg01_WrkusC"
      }
    },
    {
      "cell_type": "code",
      "source": [
        "def categorize_income(income):\n",
        "    \"\"\"\n",
        "    Categorize income into 'Low', 'Medium', or 'High' based on predefined ranges.\n",
        "\n",
        "    Args:\n",
        "    - income (float): The income value.\n",
        "\n",
        "    Returns:\n",
        "    - str: The income category ('Low', 'Medium', 'High').\n",
        "    \"\"\"\n",
        "    if income < 50000:\n",
        "        return \"Low\"\n",
        "    elif 50000 <= income <= 80000:\n",
        "        return \"Medium\"\n",
        "    else:\n",
        "        return \"High\"\n",
        "\n",
        "\n",
        "def transform_data(df):\n",
        "    \"\"\"\n",
        "    Perform data transformations on the given DataFrame:\n",
        "    1. Add a new column 'IncomeCategory' based on income ranges.\n",
        "    2. Convert 'SubscriptionPlan' values to uppercase.\n",
        "    3. Calculate 'MembershipDuration' (in years) from 'JoinDate'.\n",
        "    4. Add a flag 'HighIncomeCustomer' for customers with income > 80,000.\n",
        "    5. Create a new column 'CityPlan' by combining 'City' and 'SubscriptionPlan'.\n",
        "\n",
        "    Args:\n",
        "    - df (pd.DataFrame): The input DataFrame.\n",
        "\n",
        "    Returns:\n",
        "    - pd.DataFrame: The transformed DataFrame.\n",
        "    \"\"\"\n",
        "    # Add 'IncomeCategory'\n",
        "    df['IncomeCategory'] = df['Income'].apply(categorize_income)\n",
        "\n",
        "    # Convert 'SubscriptionPlan' to uppercase\n",
        "    df['SubscriptionPlan'] = df['SubscriptionPlan'].str.upper()\n",
        "\n",
        "    # Calculate 'MembershipDuration'\n",
        "    df['JoinDate'] = pd.to_datetime(df['JoinDate'])\n",
        "    df['MembershipDuration'] = (pd.Timestamp.now() - df['JoinDate']).dt.days // 365\n",
        "\n",
        "    # Add 'HighIncomeCustomer' flag\n",
        "    df['HighIncomeCustomer'] = df['Income'] > 80000\n",
        "\n",
        "    # Create 'CityPlan'\n",
        "    df['CityPlan'] = df['City'] + \"_\" + df['SubscriptionPlan']\n",
        "\n",
        "    return df\n",
        "\n",
        "# Transform the data\n",
        "transformed_data = transform_data(merged_data)\n",
        "\n",
        "# Preview transformed data\n",
        "print(\"\\nTransformed Data Sample:\")\n",
        "print(transformed_data.head())\n"
      ],
      "metadata": {
        "colab": {
          "base_uri": "https://localhost:8080/"
        },
        "id": "Hv2YCCyXkxCE",
        "outputId": "d00638e0-de75-453f-c7af-d4526c8b3a77"
      },
      "execution_count": 27,
      "outputs": [
        {
          "output_type": "stream",
          "name": "stdout",
          "text": [
            "\n",
            "Transformed Data Sample:\n",
            "   CustomerID  Age  Gender  Income      City SubscriptionPlan   JoinDate  \\\n",
            "0         123   37  Female   35116  New York             GOLD 2024-06-15   \n",
            "1         123   37  Female   35116  New York             GOLD 2024-06-15   \n",
            "2         123   37  Female   35116  New York             GOLD 2024-06-15   \n",
            "3         123   37  Female   35116  New York             GOLD 2024-06-15   \n",
            "4         123   37  Female   35116  New York             GOLD 2024-06-15   \n",
            "\n",
            "   TransactionID        Date   Product  Amount  Quantity  PaymentMethod  \\\n",
            "0           1022  2025-07-27  Keyboard    1813         2         PayPal   \n",
            "1           1026  2025-03-20   Charger    1441         4           Cash   \n",
            "2           1052  2025-01-05    Laptop    1008         2         PayPal   \n",
            "3           1079  2026-05-17  Keyboard    1023         3  Bank Transfer   \n",
            "4           1084  2025-03-12  Keyboard     192         4  Bank Transfer   \n",
            "\n",
            "   StoreLocation IncomeCategory  MembershipDuration  HighIncomeCustomer  \\\n",
            "0  San Francisco            Low                   0               False   \n",
            "1        Chicago            Low                   0               False   \n",
            "2       New York            Low                   0               False   \n",
            "3  San Francisco            Low                   0               False   \n",
            "4        Chicago            Low                   0               False   \n",
            "\n",
            "        CityPlan  \n",
            "0  New York_GOLD  \n",
            "1  New York_GOLD  \n",
            "2  New York_GOLD  \n",
            "3  New York_GOLD  \n",
            "4  New York_GOLD  \n"
          ]
        }
      ]
    },
    {
      "cell_type": "markdown",
      "source": [
        "**Save Transformed Data**"
      ],
      "metadata": {
        "id": "DVVNp4cik1bM"
      }
    },
    {
      "cell_type": "code",
      "source": [
        "def save_data(df, file_path):\n",
        "    \"\"\"\n",
        "    Save the transformed DataFrame to a CSV file.\n",
        "\n",
        "    Args:\n",
        "    - df (pd.DataFrame): The DataFrame to save.\n",
        "    - file_path (str): The file path to save the CSV file.\n",
        "\n",
        "    Returns:\n",
        "    - None\n",
        "    \"\"\"\n",
        "    df.to_csv(file_path, index=False)\n",
        "\n",
        "# Save the transformed data\n",
        "transformed_data_path = \"/content/transformed_data.csv\"\n",
        "save_data(transformed_data, transformed_data_path)\n",
        "\n",
        "print(\"\\nTransformed data saved to 'transformed_data.csv'.\")\n"
      ],
      "metadata": {
        "colab": {
          "base_uri": "https://localhost:8080/"
        },
        "id": "g_w1RyhXk2Na",
        "outputId": "1f52ed77-e45c-43f0-e63c-ab49c24e995c"
      },
      "execution_count": 28,
      "outputs": [
        {
          "output_type": "stream",
          "name": "stdout",
          "text": [
            "\n",
            "Transformed data saved to 'transformed_data.csv'.\n"
          ]
        }
      ]
    },
    {
      "cell_type": "markdown",
      "source": [
        "**Test Case 1**"
      ],
      "metadata": {
        "id": "LgqLt2A6jdas"
      }
    },
    {
      "cell_type": "code",
      "source": [
        "def test_categorize_income():\n",
        "    assert categorize_income(40000) == 'Low', \"Test failed for Low income\"\n",
        "    assert categorize_income(70000) == 'Medium', \"Test failed for Medium income\"\n",
        "    assert categorize_income(90000) == 'High', \"Test failed for High income\"\n",
        "    print(\"Test Case 1 Passed: Categorize Income Function\")\n"
      ],
      "metadata": {
        "id": "WzU3nDWCjfHl"
      },
      "execution_count": 60,
      "outputs": []
    },
    {
      "cell_type": "markdown",
      "source": [
        "**Test Case 2**"
      ],
      "metadata": {
        "id": "a8rtcIUOjknF"
      }
    },
    {
      "cell_type": "code",
      "source": [
        "def test_transform_data():\n",
        "    test_df = pd.DataFrame({\n",
        "        'Income': [40000, 70000, 90000],\n",
        "        'SubscriptionPlan': ['basic', 'premium', 'basic'],\n",
        "        'City': ['CityA', 'CityB', 'CityC'],\n",
        "        'JoinDate': ['2015-06-01', '2018-04-15', '2020-01-10']\n",
        "    })\n",
        "\n",
        "    # Transform the data\n",
        "    transformed_df = transform_data(test_df)\n",
        "\n",
        "    assert 'IncomeCategory' in transformed_df.columns, \"IncomeCategory column missing\"\n",
        "    assert 'SubscriptionPlan' in transformed_df.columns, \"SubscriptionPlan column missing\"\n",
        "    assert 'MembershipDuration' in transformed_df.columns, \"MembershipDuration column missing\"\n",
        "    assert 'HighIncomeCustomer' in transformed_df.columns, \"HighIncomeCustomer column missing\"\n",
        "    assert 'CityPlan' in transformed_df.columns, \"CityPlan column missing\"\n",
        "\n",
        "    assert transformed_df['IncomeCategory'].iloc[0] == 'Low', \"IncomeCategory for first row is incorrect\"\n",
        "    assert transformed_df['SubscriptionPlan'].iloc[1] == 'PREMIUM', \"SubscriptionPlan for second row is incorrect\"\n",
        "    assert transformed_df['MembershipDuration'].iloc[2] > 0, \"MembershipDuration for third row is incorrect\"\n",
        "\n",
        "    print(\"Test Case 2 Passed: Transform Data Function\")\n"
      ],
      "metadata": {
        "id": "CWpBVHGujmEc"
      },
      "execution_count": 61,
      "outputs": []
    },
    {
      "cell_type": "markdown",
      "source": [
        "**Test Case 3**"
      ],
      "metadata": {
        "id": "-oYpN3osjrpI"
      }
    },
    {
      "cell_type": "code",
      "source": [
        "def test_transform_empty_data():\n",
        "    empty_df = pd.DataFrame(columns=['Income', 'SubscriptionPlan', 'City', 'JoinDate'])\n",
        "    transformed_df = transform_data(empty_df)\n",
        "\n",
        "    assert transformed_df.empty, \"Transformation on empty DataFrame failed\"\n",
        "    print(\"Test Case 3 Passed: Transform Empty DataFrame\")\n"
      ],
      "metadata": {
        "id": "MmCp1ed5juoY"
      },
      "execution_count": 62,
      "outputs": []
    },
    {
      "cell_type": "markdown",
      "source": [
        "# **Data Visualizations**"
      ],
      "metadata": {
        "id": "_L0LBCO6lBf4"
      }
    },
    {
      "cell_type": "markdown",
      "source": [
        "# **Visualization 1:**\n",
        "\n",
        " **Income Distribution by Income Category**\n",
        "\n",
        "This visualization uses a box plot to display the distribution of customer incomes for each income category. It helps identify patterns, outliers, and ranges within each category."
      ],
      "metadata": {
        "id": "uirizqDEPYF3"
      }
    },
    {
      "cell_type": "code",
      "source": [
        "import pandas as pd\n",
        "import matplotlib.pyplot as plt\n",
        "import seaborn as sns\n",
        "\n",
        "# Load the dataset\n",
        "file_path = '/content/transformed_data.csv'\n",
        "data = pd.read_csv(file_path)\n",
        "\n",
        "# Set up the visualization style\n",
        "sns.set(style=\"whitegrid\")\n",
        "\n",
        "# Create a box plot for Income distribution by IncomeCategory\n",
        "plt.figure(figsize=(10, 6))\n",
        "sns.boxplot(data=data, x='IncomeCategory', y='Income', palette=\"Set2\")\n",
        "\n",
        "# Add titles and labels\n",
        "plt.title('Income Distribution by Income Category', fontsize=14)\n",
        "plt.xlabel('Income Category', fontsize=12)\n",
        "plt.ylabel('Income', fontsize=12)\n",
        "\n",
        "# Show the plot\n",
        "plt.tight_layout()\n",
        "plt.show()\n"
      ],
      "metadata": {
        "colab": {
          "base_uri": "https://localhost:8080/",
          "height": 707
        },
        "id": "RGNOZgUXlFJ_",
        "outputId": "fc5cb9ca-7341-47f8-b38b-1fde27b04221"
      },
      "execution_count": 35,
      "outputs": [
        {
          "output_type": "stream",
          "name": "stderr",
          "text": [
            "<ipython-input-35-d8cf6be1cf13>:14: FutureWarning: \n",
            "\n",
            "Passing `palette` without assigning `hue` is deprecated and will be removed in v0.14.0. Assign the `x` variable to `hue` and set `legend=False` for the same effect.\n",
            "\n",
            "  sns.boxplot(data=data, x='IncomeCategory', y='Income', palette=\"Set2\")\n"
          ]
        },
        {
          "output_type": "display_data",
          "data": {
            "text/plain": [
              "<Figure size 1000x600 with 1 Axes>"
            ],
            "image/png": "[encoded data removed]"
          },
          "metadata": {}
        }
      ]
    },
    {
      "cell_type": "markdown",
      "source": [
        "The X-axis of the boxplot represents income categories, including Low, Medium, and High. These categories group the data based on income levels. The Y-axis represents the numerical income values corresponding to each category. The boxplot for each income category includes several key features. The box represents the interquartile range (IQR), which contains the middle 50% of the data, ranging from the 25th to the 75th percentile. Inside the box, a horizontal line indicates the median income for that category. The whiskers extend from the box to show the range of data, reaching up to 1.5 times the IQR from the quartiles. Any data points outside the whiskers are considered potential outliers, highlighting values that are unusually high or low relative to the rest of the data."
      ],
      "metadata": {
        "id": "dl4CYPLAojhH"
      }
    },
    {
      "cell_type": "markdown",
      "source": [
        "# **Visualization 2:**\n",
        "\n",
        "**Membership Duration Histogram**\n",
        "\n",
        "This visualization uses a histogram with a KDE plot (Kernel Density Estimate) to show the frequency distribution of membership durations. It provides insights into how long customers typically stay subscribed.\n",
        "\n",
        "python\n",
        "Copy code\n"
      ],
      "metadata": {
        "id": "cezcXwoGVj4Q"
      }
    },
    {
      "cell_type": "code",
      "source": [
        "plt.figure(figsize=(10, 6))\n",
        "sns.histplot(data=data, x='MembershipDuration', bins=15, kde=True, color='teal')\n",
        "plt.title('Membership Duration Histogram', fontsize=14)\n",
        "plt.xlabel('Membership Duration (Years)', fontsize=12)\n",
        "plt.ylabel('Frequency', fontsize=12)\n",
        "plt.grid(axis='y', linestyle='--', alpha=0.7)\n",
        "plt.tight_layout()\n",
        "plt.show()\n"
      ],
      "metadata": {
        "colab": {
          "base_uri": "https://localhost:8080/",
          "height": 600
        },
        "id": "jinItWnkVk47",
        "outputId": "87298ec4-a974-418c-c768-28a6d387244f"
      },
      "execution_count": 39,
      "outputs": [
        {
          "output_type": "display_data",
          "data": {
            "text/plain": [
              "<Figure size 1000x600 with 1 Axes>"
            ],
            "image/png": "[encoded data removed]"
          },
          "metadata": {}
        }
      ]
    },
    {
      "cell_type": "markdown",
      "source": [
        "The X-Axis represents the membership duration in years, with values appearing to be standardized, likely as z-scores, as they range from approximately -2 to 0. This standardization helps normalize the data for clearer analysis. The Y-Axis shows the frequency, which reflects the count of data points that fall within each bin or range of membership duration. Each histogram bar corresponds to a specific range of membership durations, and the height of the bar indicates the frequency of data points within that range—taller bars signify higher frequencies. The density curve, which overlays the histogram, represents the estimated probability density function (PDF) of the data. This smooth line provides a clearer visual representation of the distribution’s overall shape, offering insight into the concentration of membership durations across the dataset. Together, the histogram bars and density curve allow for an intuitive understanding of the membership duration distribution, highlighting patterns such as clustering or skewness within the data."
      ],
      "metadata": {
        "id": "XKihdIVRo9YE"
      }
    },
    {
      "cell_type": "markdown",
      "source": [
        "# **Visualization 3**:\n",
        "\n",
        "**Average Income by City and Subscription Plan**\n",
        "\n",
        "This visualization uses a bar chart to show the average income of customers grouped by city and subscription plan. It highlights differences in income levels among customers with different subscription plans across cities."
      ],
      "metadata": {
        "id": "xEWRzjcdVrav"
      }
    },
    {
      "cell_type": "code",
      "source": [
        "# Calculate average income grouped by City and SubscriptionPlan\n",
        "avg_income = data.groupby(['City', 'SubscriptionPlan'])['Income'].mean().unstack()\n",
        "\n",
        "# Plot the data as a line graph\n",
        "avg_income.plot(kind='line', figsize=(12, 7), colormap='viridis', marker='o')\n",
        "plt.title('Average Income by City and Subscription Plan', fontsize=14)\n",
        "plt.xlabel('City', fontsize=12)\n",
        "plt.ylabel('Average Income', fontsize=12)\n",
        "plt.xticks(rotation=45, ha='right')\n",
        "plt.legend(title='Subscription Plan', fontsize=10)\n",
        "plt.tight_layout()\n",
        "plt.show()\n"
      ],
      "metadata": {
        "colab": {
          "base_uri": "https://localhost:8080/",
          "height": 721
        },
        "id": "JUNEqrrSVsYd",
        "outputId": "3f4deba6-eba9-45ac-fb1b-30936b40a2d1"
      },
      "execution_count": 40,
      "outputs": [
        {
          "output_type": "display_data",
          "data": {
            "text/plain": [
              "<Figure size 1200x700 with 1 Axes>"
            ],
            "image/png": "[encoded data removed]"
          },
          "metadata": {}
        }
      ]
    },
    {
      "cell_type": "markdown",
      "source": [
        "\n",
        "The X-axis represents different cities—Chicago, Los Angeles, Miami, and New York—showing a comparison of income levels across these urban locations. The Y-axis represents the average income within each city, allowing for an easy comparison of income levels across locations. The plot includes multiple lines, each representing a different subscription plan, such as \"BASIC,\" \"GOLD,\" and \"PREMIUM.\" Each point on these lines corresponds to the average income for a specific city and subscription plan combination, helping to visualize how income varies by both location and subscription tier. This layout allows for a detailed comparison of income levels across cities and subscription plans, highlighting any significant trends or differences in earnings tied to both geographic and service-specific factors."
      ],
      "metadata": {
        "id": "2MlBNQFipU0m"
      }
    },
    {
      "cell_type": "markdown",
      "source": [
        "# **Visualization 4:**\n",
        "\n",
        " **Count of High Income Customers by City**\n",
        "\n",
        "This visualization uses a bar chart to display the count of customers identified as \"high income\" in each city. This metric can be used to identify cities with a greater concentration of affluent customers."
      ],
      "metadata": {
        "id": "XRlubHUaVxgY"
      }
    },
    {
      "cell_type": "code",
      "source": [
        "high_income_counts = data[data['HighIncomeCustomer']].groupby('City')['CustomerID'].count()\n",
        "high_income_counts.plot(kind='bar', figsize=(10, 6), color='coral')\n",
        "plt.title('Count of High Income Customers by City', fontsize=14)\n",
        "plt.xlabel('City', fontsize=12)\n",
        "plt.ylabel('Count of High Income Customers', fontsize=12)\n",
        "plt.xticks(rotation=45, ha='right')\n",
        "plt.tight_layout()\n",
        "plt.show()\n"
      ],
      "metadata": {
        "colab": {
          "base_uri": "https://localhost:8080/",
          "height": 601
        },
        "id": "0MT3pfhoVyc7",
        "outputId": "4ea0057b-4fdc-4469-caee-884ccdcbcc75"
      },
      "execution_count": 46,
      "outputs": [
        {
          "output_type": "display_data",
          "data": {
            "text/plain": [
              "<Figure size 1000x600 with 1 Axes>"
            ],
            "image/png": "[encoded data removed]"
          },
          "metadata": {}
        }
      ]
    },
    {
      "cell_type": "markdown",
      "source": [
        "The X-axis compares two cities: Chicago and Miami, providing a direct contrast between the two in terms of high-income customers. The Y-axis represents the count of high-income customers, defined as individuals whose income exceeds a specific threshold, likely $80,000 or more. The plot features bars, with the bar for Miami being significantly taller than that for Chicago, indicating that Miami has a much larger number of high-income customers. In contrast, Chicago shows a relatively lower count of high-income customers. This comparison highlights the stark difference between the two cities in terms of their high-income customer base, suggesting that Miami might be a more favorable location for attracting wealthier individuals compared to Chicago."
      ],
      "metadata": {
        "id": "Pn-11dTipkaH"
      }
    },
    {
      "cell_type": "markdown",
      "source": [
        "# **Project Overview**\n",
        "\n",
        "**\"Harnessing Data for Smarter Decision-Making:** Insights into Income Distribution and Membership Duration\"\n",
        "\n",
        "In today’s fast-paced world, organizations need to leverage data to understand their target audience better and make informed decisions. This project has provided valuable insights into income distribution and membership duration, which can be essential in shaping strategies for customer engagement, retention, and segmentation. By exploring these patterns, you can make more data-driven decisions that resonate with your audience’s behaviors and needs.\n",
        "\n",
        "**Income Distribution Insights**\n",
        "\n",
        "The income distribution analysis focuses on three distinct income\n",
        "\n",
        "**categories:** Low, Medium, and High.\n",
        " Here’s what the data reveals:\n",
        "\n",
        "**Income Variability:**\n",
        "\n",
        "The \"Low\" income category shows a narrow distribution, indicating that individuals within this category have similar income levels. This consistency suggests that any program or offering targeting this group can be standardized for greater efficiency.\n",
        "On the other hand, the \"High\" income category shows a wider spread, meaning there are significant income disparities within this group. The variability suggests that targeting this group may require more tailored solutions, offering a range of products or services that cater to diverse financial capabilities.\n",
        "\n",
        "**Median Income Trends:**\n",
        "\n",
        "The median income increases as we progress from Low to High. This clear gradient between the categories highlights the predictable progression in income levels. It indicates that interventions or strategies aimed at each group need to reflect their respective financial contexts.\n",
        "Implications for Action:\n",
        "\n",
        "**For the Low-income group:** Businesses and organizations should focus on providing accessible, affordable solutions. This could include financial assistance, budget-friendly services, or products that support financial growth within this group.\n",
        "For the Medium-income group: Offer a range of mid-tier products that strike a balance between affordability and quality. These individuals may appreciate well-priced options that provide value without being overly expensive.\n",
        "\n",
        "**For the High-income group**: Tailor premium offerings and exclusive products that cater to the diverse needs of this group. This segment is more likely to invest in high-quality, luxurious, or niche products.\n",
        "Membership Duration Insights\n",
        "The second key insight comes from analyzing membership duration data, which reveals a bimodal distribution:\n",
        "\n",
        "**Short-Term Membership:**\n",
        "\n",
        "One group consists of short-term members who may have initially joined but didn’t stay for long. This group could represent individuals who were either dissatisfied, didn’t find enough value, or simply didn't engage deeply with the product or service.\n",
        "\n",
        "**Long-Term Membership:**\n",
        "\n",
        "The other group consists of long-term members who have stayed loyal to the organization. This group likely derives consistent value from the offerings and is satisfied with the service or product. They are potentially the most engaged users and are a valuable asset for future business growth.\n",
        "\n",
        "**Implications for Action:**\n",
        "\n",
        "**For short-term members:** The focus should be on understanding why they left early. Was it due to unmet expectations, lack of personalization, or poor user experience? Addressing these gaps through targeted retention strategies could convert some of these short-term members into long-term, loyal ones.\n",
        "\n",
        "**For long-term members:** Strategies for retaining these members could include loyalty programs, exclusive offers, or further engagement tactics to ensure they remain satisfied and committed over time.\n",
        "\n",
        "**Conclusion**\n",
        "These data-driven insights provide a strong foundation for creating strategies that are aligned with your audience's behaviors. By focusing on the nuances of income levels and membership durations, you can ensure that your approach is targeted, effective, and valuable. Data is a powerful tool—it’s time to leverage it to foster loyalty, enhance customer satisfaction, and achieve long-term success."
      ],
      "metadata": {
        "id": "fQZ7k5SEqzsK"
      }
    }
  ]
}