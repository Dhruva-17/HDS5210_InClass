{
  "cells": [
    {
      "cell_type": "markdown",
      "metadata": {
        "id": "_wjdypV8Gpht"
      },
      "source": [
        "# Week 7 Assignment\n",
        "\n",
        "We've been working with different types of data structures in Python (dictionary, list, etc), how those are represented in JSON documents, and how to write code to access specific data elements. In this week's assignment, you will need to create your own JSON document to store information about yourself and the grades you've received from week 1 to week 4 and the week 6 quiz.  That is, everything you should have received a grade for.  Then you'll need to show me you know how to navigate the JSON in that file.\n",
        "\n",
        "Different from what we've done in the past, you do not have to write any functions or include any docstrings.  Just create some JSON and write some code.\n",
        "\n",
        "---"
      ]
    },
    {
      "cell_type": "markdown",
      "metadata": {
        "id": "5cJmOMiZGphv"
      },
      "source": [
        "## 7.1 Create a JSON file\n",
        "\n",
        "Create a JSON file that contains your name, email, year you were born, all of the grades you've received back so far, and a comment about what you thought was most challenging on each of those assignments.  This can be any structure you choose, but make sure it uses a dictionary and a list, and has at least two levels of hierarchy.  That is, it can't just be one big long list."
      ]
    },
    {
      "cell_type": "markdown",
      "metadata": {
        "id": "cl6p9pOjGphv"
      },
      "source": [
        "First, explain how your data structure is going to look..."
      ]
    },
    {
      "cell_type": "markdown",
      "metadata": {
        "id": "kQl79SZsGphv"
      },
      "source": [
        "The JSON file will have a data structure consisting of a root dictionary with two main components: personal information and grades. The personal_info key will point to a dictionary that includes the name, email, and birth year. The grades key will contain a list of dictionaries, with each dictionary representing a week's grade and feedback. Each entry will include keys for week, grade, and comment, clearly documenting the grades received and the challenges encountered. This hierarchical structure allows for easy access to personal and academic information, ensuring that everything remains organized and manageable.ext..."
      ]
    },
    {
      "cell_type": "markdown",
      "metadata": {
        "id": "DwJLCS_nGphw"
      },
      "source": [
        "Then put the actual JSON you've created inside the multiline string below..."
      ]
    },
    {
      "cell_type": "code",
      "execution_count": 1,
      "metadata": {
        "id": "nLZqjP5-Gphw"
      },
      "outputs": [],
      "source": [
        "hds5210 =  \"\"\"\n",
        "{\n",
        "  \"name\": \"Dhruvakumar\",\n",
        "  \"email\": \"dhruvakumar.chatarajupalli@slu.edu\",\n",
        "  \"year_born\": 2001,\n",
        "  ---- grades I got in each week assignment ----\n",
        "  \"assignments\": [\n",
        "    {\n",
        "      \"week-1\": \"Setup github & add collabrator\",\n",
        "      \"grade\": \"10\",\n",
        "      \"comment\": \"Initially, I forgot to add a collaborator to my repository. After some time, I realized this and added Adam as a collaborator.\"\n",
        "    },\n",
        "    {\n",
        "      \"week-2\": \"Programming Project 1\",\n",
        "      \"grade\": \"7\",\n",
        "      \"comment\": \"As a novice in coding, I made poor choices regarding variable and function names, didn't document my work adequately, and overlooked performing assertions.,\n",
        "       So I got low grage.\"\n",
        "    },\n",
        "    {\n",
        "      \"week-3\": \"Programming Project 2\",\n",
        "      \"grade\": \"08\",\n",
        "      \"comment\": \"I faced some difficulties while working with the LACE score, but I was able to overcome them.\n",
        "\n",
        "\n",
        "\n",
        "\"\n",
        "    },\n",
        "    {\n",
        "      \"week-4\": \"Programming Project 3\",\n",
        "      \"grade\": \"12\",\n",
        "      \"comment\": \"I was initially confused by nested lists, but later I gained clarity after studying McKinney 3.1.\n",
        "\n",
        "\n",
        "\n",
        "\"\n",
        "    },\n",
        "    {\n",
        "      \"week-5\": \"Programming Project 4\",\n",
        "      \"grade\": \"not assigned\",\n",
        "      \"comment\": \"Docstrings were relatively easy to understand and will be beneficial for documenting the code.\"\n",
        "    }\n",
        "  ]\n",
        "}\n",
        "\"\"\""
      ]
    },
    {
      "cell_type": "markdown",
      "metadata": {
        "id": "SrnprA2YGphx"
      },
      "source": [
        "## 7.2 Do something with your JSON\n",
        "\n",
        "Now use Python code to do something with the Json above.  Turn it into English text, but make sure that you use at least one loop to access some dict or list content of your JSON.  Below, I've provided some basic code to read in the string above as JSON and return a Python object.  Your job is to work with that data structure and print out the important information like your name, email, and how you did on each assignment."
      ]
    },
    {
      "cell_type": "code",
      "execution_count": 4,
      "metadata": {
        "colab": {
          "base_uri": "https://localhost:8080/"
        },
        "id": "LgsIXsPgGphx",
        "outputId": "b0145cce-57b2-4afb-f7f1-f53bf902d573"
      },
      "outputs": [
        {
          "output_type": "stream",
          "name": "stdout",
          "text": [
            "Name: Dhruvakumar\n",
            "Email: dhruvakumar.chatarajupalli@slu.edu\n",
            "Week Setup github & add collabrator: Grade = 10, Comment: First week was easy as it is only adding the collaborator.\n",
            "Week Programming Project 1: Grade = 7, Comment: I made poor choice in defining functions, variables.\n",
            "Week Programming Project 2: Grade = 8, Comment: At first, I didn't understand the process. Later, I worked on it and completed the assignment.\n",
            "Week Programming Project 3: Grade = 12, Comment: I was a little bit confused with nested lists; later I watched some videos and started working on it.\n"
          ]
        }
      ],
      "source": [
        "import json\n",
        "\n",
        "# Sample JSON data (as if it has been loaded from an external source)\n",
        "data = {\n",
        "    \"personal_info\": {\n",
        "        \"name\": \"Dhruvakumar\",\n",
        "        \"email\": \"dhruvakumar.chatarajupalli@slu.edu\",\n",
        "        \"birth_year\": 2001\n",
        "    },\n",
        "    \"grades\": [\n",
        "        {\n",
        "            \"week\": \"Setup github & add collabrator\",\n",
        "            \"grade\": 10,\n",
        "            \"comment\": \"First week was easy as it is only adding the collaborator.\"\n",
        "        },\n",
        "        {\n",
        "            \"week\": \"Programming Project 1\",\n",
        "            \"grade\": 7,\n",
        "            \"comment\": \"I made poor choice in defining functions, variables.\"\n",
        "        },\n",
        "        {\n",
        "            \"week\": \"Programming Project 2\",\n",
        "            \"grade\": 8,\n",
        "            \"comment\": \"At first, I didn't understand the process. Later, I worked on it and completed the assignment.\"\n",
        "        },\n",
        "        {\n",
        "            \"week\": \"Programming Project 3\",\n",
        "            \"grade\": 12,\n",
        "            \"comment\": \"I was a little bit confused with nested lists; later I watched some videos and started working on it.\"\n",
        "        }\n",
        "    ]\n",
        "}\n",
        "\n",
        "# Extract personal information, print personal information, grades and comments of each week\n",
        "name = data[\"personal_info\"][\"name\"]\n",
        "email = data[\"personal_info\"][\"email\"]\n",
        "\n",
        "print(f\"Name: {name}\")\n",
        "print(f\"Email: {email}\")\n",
        "\n",
        "for grade_info in data[\"grades\"]:\n",
        "    week = grade_info[\"week\"]\n",
        "    grade = grade_info[\"grade\"]\n",
        "    comment = grade_info[\"comment\"]\n",
        "    print(f\"Week {week}: Grade = {grade}, Comment: {comment}\")"
      ]
    },
    {
      "cell_type": "markdown",
      "metadata": {
        "id": "_By_EByQGphx"
      },
      "source": [
        "## 7.3 Reflect\n",
        "\n",
        "Write a paragraph on any reflections you have. Was this hard? Easy?  What parts were most challenging or easiest? What did you like or dislike about the assignment?  Share whatever important thoughts you have abou this assignment."
      ]
    },
    {
      "cell_type": "markdown",
      "metadata": {
        "id": "3_vG0D36Gphy"
      },
      "source": [
        "This assignment was a valuable exercise in working with JSON data and using Python to transform it into a more human-readable format. Overall, I found the task quite manageable, as I'm comfortable with basic Python concepts like loops and dictionaries. The easiest part was loading the JSON data into a Python dictionary and accessing the values using their keys.\n",
        "\n",
        "The more challenging aspect involved constructing an English paragraph while looping through the assignments and formatting the text for readability. This required careful string concatenation to ensure everything appeared clean and organized, serving as a good reminder of how to work with dynamic data in Python.\n",
        "\n",
        "What I appreciated about the assignment was how it emphasized the importance of structured data and the utility of JSON when exchanging or handling information in Python. I enjoyed having the flexibility to define my own data structure and manipulate it through code. The only tedious part was typing out the detailed assignment information, but that’s a minor issue.\n",
        "\n",
        "In conclusion, this exercise was an excellent blend of JSON handling and Python scripting, and I found it to be a practical and relatively straightforward assignment.\n",
        "\n"
      ]
    },
    {
      "cell_type": "markdown",
      "metadata": {
        "id": "Ed-lnMn3Gphy"
      },
      "source": [
        "---\n",
        "\n",
        "# Example\n",
        "\n",
        "Below is an example of something similar, but this uses information my and my friend's kids instead of grades."
      ]
    },
    {
      "cell_type": "code",
      "execution_count": 3,
      "metadata": {
        "colab": {
          "base_uri": "https://localhost:8080/"
        },
        "id": "TcXcOXFoGphy",
        "outputId": "f4ff188c-e5ca-4077-90a7-b5c8d793c634"
      },
      "outputs": [
        {
          "output_type": "stream",
          "name": "stdout",
          "text": [
            "Hi, my name is Paul. I've got 3 kids. Their names are Ellie, Ada, Teddy.\n",
            "My friend, Anny has 1 kids. That's fewer than me. Their names are 1\n"
          ]
        }
      ],
      "source": [
        "hds5210 = \"\"\"\n",
        "{\n",
        "    \"me\": {\n",
        "        \"name\": \"Paul\",\n",
        "        \"kids\": [\"Ellie\", \"Ada\", \"Teddy\"]\n",
        "    },\n",
        "    \"friend\": {\n",
        "        \"name\": \"Anny\",\n",
        "        \"kids\": [\"Abby\"]\n",
        "    }\n",
        "}\n",
        "\"\"\"\n",
        "\n",
        "import json\n",
        "\n",
        "info = json.loads(hds5210)\n",
        "\n",
        "me = info[\"me\"][\"name\"]\n",
        "my_kids_count = len(info[\"me\"][\"kids\"])\n",
        "kids_list = \", \".join(info[\"me\"][\"kids\"])\n",
        "friend = info[\"friend\"][\"name\"]\n",
        "friends_kid_count = len(info[\"friend\"][\"kids\"])\n",
        "friend_kids = \", \".join(info[\"friend\"][\"kids\"])\n",
        "compare = \"more\" if friends_kid_count > my_kids_count else \"fewer\"\n",
        "\n",
        "print(f\"Hi, my name is {me}. I've got {my_kids_count} kids. Their names are {kids_list}.\")\n",
        "print(f\"My friend, {friend} has {friends_kid_count} kids. That's {compare} than me. Their names are {friends_kid_count}\")"
      ]
    }
  ],
  "metadata": {
    "kernelspec": {
      "display_name": "Python 3",
      "language": "python",
      "name": "python3"
    },
    "language_info": {
      "codemirror_mode": {
        "name": "ipython",
        "version": 3
      },
      "file_extension": ".py",
      "mimetype": "text/x-python",
      "name": "python",
      "nbconvert_exporter": "python",
      "pygments_lexer": "ipython3",
      "version": "3.9.16"
    },
    "colab": {
      "provenance": []
    }
  },
  "nbformat": 4,
  "nbformat_minor": 0
}