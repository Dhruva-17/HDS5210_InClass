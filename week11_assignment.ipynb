{
  "cells": [
    {
      "cell_type": "markdown",
      "metadata": {
        "id": "view-in-github",
        "colab_type": "text"
      },
      "source": [
        "<a href=\"https://colab.research.google.com/github/Dhruva-17/HDS5210_InClass/blob/master/week11_assignment.ipynb\" target=\"_parent\"><img src=\"https://colab.research.google.com/assets/colab-badge.svg\" alt=\"Open In Colab\"/></a>"
      ]
    },
    {
      "cell_type": "markdown",
      "metadata": {
        "id": "VDtnor9vxFtx"
      },
      "source": [
        "# Week 11 Assignment\n",
        "\n",
        "\n",
        "Please do the programming exercise and verify that your code works using the tests, then think about your final project and fill out the questions in the second part.\n",
        "\n",
        "---\n",
        "---"
      ]
    },
    {
      "cell_type": "markdown",
      "metadata": {
        "id": "ouveTA0CxFty"
      },
      "source": [
        "### 47.1: Filtering and summarizing data\n",
        "\n",
        "For this work, you'll find a data file in `/data/complications_all.csv`.\n",
        "\n",
        "Read in the data file and create a variable called `mo_hospitals` that contains a data frame from the `complications_all.csv` file, filtered down to only contain those hospitals from the state of Missouri (MO).\n",
        "\n",
        "Then aggregate that data by hospital into a variable named `mo_summary`.  There are some key fields that we want to summarize:\n",
        "* We want to know the earliest date that each hospital was participating in any program\n",
        "* We want to know the latest date that each hospital stopped participating in any program\n",
        "* We want to know the total number of patients in the denominators of these programs\n",
        "\n",
        "Some things to note:\n",
        "* You will need to convert the `Start Date` and `End Date` to actual datetime fields\n",
        "* You will need to clean up and convert the `Denominator` field to just be numeric - the rule that you should use it to simply remove any records where the `Denominator` is `'Not Available'`\n",
        "\n",
        "\n",
        "The final result of this step should be a new data frame called `mo_summary` that contains one row for each hospital and contains the min start date, max end date, and total denominator.  Use the names `start_date`, `end_date`, and `number` for those columns in `mo_summary`.\n",
        "\n",
        "\n",
        "You do not need to create your code in the form of a function, just make sure your variable names match what I've described above so the tests work."
      ]
    },
    {
      "cell_type": "code",
      "execution_count": null,
      "metadata": {
        "id": "izd3UBduxFtz"
      },
      "outputs": [],
      "source": [
        "import pandas as pd\n",
        "\n",
        "# Load the CSV data\n",
        "data = pd.read_csv('https://hds5210-data.s3.amazonaws.com/complications_all.csv')\n",
        "\n",
        "# Filter data for hospitals in Missouri (MO)\n",
        "mo_hospitals = data[data['State'] == 'MO'].copy()\n",
        "\n",
        "# Convert 'Start Date' and 'End Date' columns to datetime\n",
        "mo_hospitals['Start Date'] = pd.to_datetime(mo_hospitals['Start Date'], errors='coerce')\n",
        "mo_hospitals['End Date'] = pd.to_datetime(mo_hospitals['End Date'], errors='coerce')\n",
        "\n",
        "# Remove rows where Denominator is 'Not Available' and convert it to numeric\n",
        "mo_hospitals = mo_hospitals[mo_hospitals['Denominator'] != 'Not Available']\n",
        "mo_hospitals['Denominator'] = pd.to_numeric(mo_hospitals['Denominator'], errors='coerce')\n",
        "\n",
        "# Aggregate the data by hospital\n",
        "mo_summary = mo_hospitals.groupby('Facility Name').agg(\n",
        "    start_date=('Start Date', 'min'),\n",
        "    end_date=('End Date', 'max'),\n",
        "    number=('Denominator', 'sum')\n",
        ").reset_index()\n",
        "import pandas as pd\n",
        "\n",
        "# Load the CSV data\n",
        "data = pd.read_csv('https://hds5210-data.s3.amazonaws.com/complications_all.csv')\n",
        "\n",
        "# Filter data for hospitals in Missouri (MO)\n",
        "mo_hospitals = data[data['State'] == 'MO'].copy()\n",
        "\n",
        "# Convert 'Start Date' and 'End Date' columns to datetime\n",
        "mo_hospitals['Start Date'] = pd.to_datetime(mo_hospitals['Start Date'], errors='coerce')\n",
        "mo_hospitals['End Date'] = pd.to_datetime(mo_hospitals['End Date'], errors='coerce')\n",
        "\n",
        "# Remove rows where Denominator is 'Not Available' and convert it to numeric\n",
        "mo_hospitals = mo_hospitals[mo_hospitals['Denominator'] != 'Not Available']\n",
        "mo_hospitals['Denominator'] = pd.to_numeric(mo_hospitals['Denominator'], errors='coerce')\n",
        "\n",
        "# Aggregate the data by hospital\n",
        "mo_summary = mo_hospitals.groupby('Facility Name').agg(\n",
        "    start_date=('Start Date', 'min'),\n",
        "    end_date=('End Date', 'max'),\n",
        "    number=('Denominator', 'sum')\n",
        ").reset_index()\n",
        "\n",
        "# Set Facility Name as index to support .loc for assertions\n",
        "mo_summary.set_index('Facility Name', inplace=True)\n"
      ]
    },
    {
      "cell_type": "code",
      "execution_count": null,
      "metadata": {
        "id": "DBErONkoxFtz"
      },
      "outputs": [],
      "source": [
        "# Do you work here and in as many cells as you need to create a variable called `mo_summary` that matches the requirements"
      ]
    },
    {
      "cell_type": "code",
      "execution_count": null,
      "metadata": {
        "id": "cSzzNEESxFtz"
      },
      "outputs": [],
      "source": [
        "assert(mo_summary['number'].sum() == 1766908)\n",
        "assert(mo_summary['start_date'].min() == pd.Timestamp(2015,4,1))\n",
        "assert(mo_summary['end_date'].max() == pd.Timestamp(2018,6,30))\n",
        "assert(mo_summary.shape == (108,3))\n",
        "assert(mo_summary.loc['BARNES JEWISH HOSPITAL'].number == 131313)\n",
        "assert(mo_summary.loc['BOONE HOSPITAL CENTER'].number == 63099)"
      ]
    },
    {
      "cell_type": "markdown",
      "metadata": {
        "id": "e3lhyDkyxFt0"
      },
      "source": [
        "---\n",
        "\n",
        "### 47.2 Planning your final project\n",
        "\n",
        "You should be thinking about the things we've been learning and how you can apply them to your final project.  Use the rubric to help guid your thinking and then answer the questions below.  This is meant as a guide to help you think through what you will do."
      ]
    },
    {
      "cell_type": "markdown",
      "metadata": {
        "id": "cNhgaDofxFt0"
      },
      "source": [
        "#### A) Data Access\n",
        "\n",
        "Your project should include data from at least three distinct types of sources.  For example: AWS S3, Relational Databases, Internet, Web Services, local files.  List what data sources you're planning to use."
      ]
    },
    {
      "cell_type": "markdown",
      "metadata": {
        "id": "mveLck1AxFt0"
      },
      "source": [
        "**Kaggle** is a popular online community for data scientists and machine learning enthusiasts. It offers a platform to access datasets, participate in competitions, collaborate on projects, and use various data science tools. Kaggle provides resources like code notebooks, public datasets, tutorials, and forums, making it an ideal space for learning, practicing, and advancing in data science. Many users utilize Kaggle to build portfolios, gain practical experience, and engage in real-world challenges. You can explore more at Kaggle's website. https://www.kaggle.com/datasets/imdevskp/hiv-aids-dataset\n",
        "\n",
        "Data.gov is the U.S. government's open data portal, offering free access to thousands of datasets from various federal agencies, covering topics like health, education, environment, and more. Researchers, developers, and the public can use it to find data for analysis, app development, and insights into government operations. The platform promotes transparency and data-driven decision-making. You can explore the datasets at Data.gov.https://catalog.data.gov/dataset/dohmh-hiv-aids-annual-report\n"
      ]
    },
    {
      "cell_type": "markdown",
      "metadata": {
        "id": "Clz5eAIFxFt0"
      },
      "source": [
        "For this project, I plan to use data in the following file formats:\n",
        "\n",
        "1. **CSV** - For structured data like lists and tables.\n",
        "2. **JSON** - For data exchanged between systems, especially for web services or APIs.\n",
        "\n"
      ]
    },
    {
      "cell_type": "markdown",
      "metadata": {
        "id": "JmU9kS_jxFt0"
      },
      "source": [
        "#### C. Objective\n",
        "\n",
        "What purpose would your project serve in a real work setting?  Take a couple of paragraphs to write down why this is an interesting product."
      ]
    },
    {
      "cell_type": "markdown",
      "metadata": {
        "id": "YC3sMVyCxFt0"
      },
      "source": [
        "HIV and AIDS in a real work setting could serve as a critical tool for healthcare providers, researchers, and public health organizations by streamlining access to reliable information, supporting patient care, and enabling data-driven decision-making. Such a project could offer healthcare professionals instant access to up-to-date clinical guidelines, treatment protocols, and drug interaction information specific to HIV/AIDS management. This accessibility could enhance patient care by ensuring providers have immediate support in making accurate, informed decisions, which is especially vital in managing a complex condition like HIV/AIDS that requires tailored treatment plans and vigilant monitoring of a patient's health status.\n",
        "\n",
        "Additionally, this project could be transformative in public health education and outreach. By providing easy-to-understand, evidence-based information, it could help organizations educate patients, reduce stigma, and promote preventive measures effectively. Data analysis features could support researchers in identifying trends in infection rates, treatment outcomes, or resistance patterns, which are crucial for developing better treatments and guiding public health policies. The project’s ability to deliver real-time information, support personalized care, and aid in educational efforts makes it a valuable asset in the fight against HIV/AIDS, ultimately contributing to better health outcomes and greater societal awareness around the condition."
      ]
    },
    {
      "cell_type": "markdown",
      "metadata": {
        "id": "aRSEAx0sxFt0"
      },
      "source": [
        "\n",
        "\n",
        "---\n",
        "\n",
        "\n",
        "\n",
        "## Submit your work via GitHub as normal\n"
      ]
    }
  ],
  "metadata": {
    "kernelspec": {
      "display_name": "Python 3",
      "language": "python",
      "name": "python3"
    },
    "language_info": {
      "codemirror_mode": {
        "name": "ipython",
        "version": 3
      },
      "file_extension": ".py",
      "mimetype": "text/x-python",
      "name": "python",
      "nbconvert_exporter": "python",
      "pygments_lexer": "ipython3",
      "version": "3.9.16"
    },
    "colab": {
      "provenance": [],
      "include_colab_link": true
    }
  },
  "nbformat": 4,
  "nbformat_minor": 0
}