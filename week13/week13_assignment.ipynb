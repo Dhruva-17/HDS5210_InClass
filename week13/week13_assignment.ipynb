{
  "cells": [
    {
      "cell_type": "markdown",
      "metadata": {
        "nbgrader": {
          "grade": false,
          "grade_id": "cell-fc1c39d0d6f8b82a",
          "locked": true,
          "schema_version": 1,
          "solution": false
        },
        "id": "KUY1e5aJo5xN"
      },
      "source": [
        "# Week 13 Programming Assignment\n",
        "\n",
        "As you're working on identifying data for your final project, it's helpful to spend some time exploring your various data files.  For this week's assignment, I'd like you to take a few of the ideas from the the lectures, review assignment, and tonight's lecture to start exploring the data you plan to use for the final project.\n",
        "\n",
        "For the following activities, you can use just one of the data files that you've identified, or you can do the activities using different data files.  That's up to you.  Check in your data file along with this exercise. Please describe what you're doing in a Markdown cell or in the comments of your code.  When you've completed the assignment, submit it as normal."
      ]
    },
    {
      "cell_type": "markdown",
      "metadata": {
        "id": "b9HoS4tno5xP"
      },
      "source": [
        "### 1. Basic Statistics\n",
        "\n",
        "Use Python to read in your data file and show many rows and columns your data has."
      ]
    },
    {
      "cell_type": "code",
      "execution_count": 4,
      "metadata": {
        "colab": {
          "base_uri": "https://localhost:8080/"
        },
        "id": "S3fUsfcYo5xQ",
        "outputId": "0c5a45ae-82f3-47e6-9895-208c6bc76564"
      },
      "outputs": [
        {
          "output_type": "stream",
          "name": "stdout",
          "text": [
            "The dataset has 1000 rows and 4 columns.\n"
          ]
        }
      ],
      "source": [
        "import pandas as pd\n",
        "\n",
        "# Path to your data file\n",
        "file_path = '/content/large_customer_data.csv'\n",
        "\n",
        "# Read the CSV file\n",
        "data = pd.read_csv(file_path)\n",
        "\n",
        "# Get the number of rows and columns\n",
        "num_rows, num_columns = data.shape\n",
        "\n",
        "# Display the results\n",
        "print(f\"The dataset has {num_rows} rows and {num_columns} columns.\")\n"
      ]
    },
    {
      "cell_type": "markdown",
      "metadata": {
        "id": "knaaHMnXo5xQ"
      },
      "source": [
        "### 2. Data Diversity\n",
        "\n",
        "Use Python to identify how many unique values each column in your data has.  Use Python to identify which column has the greatest number of distinct values (aka the most diversity)?  If your data has a unique identifier (e.g. a person or visit or record ID) then find the column with the next most number of unique values."
      ]
    },
    {
      "cell_type": "code",
      "execution_count": 5,
      "metadata": {
        "colab": {
          "base_uri": "https://localhost:8080/"
        },
        "id": "PVr1q5Kco5xR",
        "outputId": "6b5eb9e0-b4d0-45c7-d772-f0ba3f78e704"
      },
      "outputs": [
        {
          "output_type": "stream",
          "name": "stdout",
          "text": [
            "Column with the most unique values: CustomerID (1000 unique values)\n",
            "Column with the second most unique values: CustomerID (1000 unique values)\n"
          ]
        }
      ],
      "source": [
        "import pandas as pd\n",
        "\n",
        "# Path to your data file\n",
        "file_path = '/content/large_customer_data.csv'\n",
        "\n",
        "# Read the CSV file\n",
        "data = pd.read_csv(file_path)\n",
        "\n",
        "# Get the number of unique values in each column\n",
        "unique_values = data.nunique()\n",
        "\n",
        "# Identify the column with the most unique values\n",
        "most_unique_column = unique_values.idxmax()\n",
        "most_unique_count = unique_values.max()\n",
        "\n",
        "# Drop the column with unique identifiers (assuming it's the one with the most unique values)\n",
        "# If you know the column name for the unique identifier, replace 'unique_identifier_column' with the actual column name.\n",
        "# If the unique identifier is truly the column with the most unique values, we'll skip it by looking for the next one.\n",
        "if most_unique_column == 'unique_identifier_column':  # Modify this line accordingly\n",
        "    unique_values = unique_values.drop(most_unique_column)\n",
        "\n",
        "# Find the column with the next most unique values\n",
        "next_most_unique_column = unique_values.idxmax()\n",
        "next_most_unique_count = unique_values.max()\n",
        "\n",
        "# Display the results\n",
        "print(f\"Column with the most unique values: {most_unique_column} ({most_unique_count} unique values)\")\n",
        "print(f\"Column with the second most unique values: {next_most_unique_column} ({next_most_unique_count} unique values)\")\n"
      ]
    },
    {
      "cell_type": "markdown",
      "metadata": {
        "id": "q2mkIkK_o5xR"
      },
      "source": [
        "### 3. Data Redundancy\n",
        "\n",
        "Use Python to identify any columns in your data where the value for every row is the same.  For example, if you had a gender column and all the rows said 'M', then you would want to write the code that helped you determine that."
      ]
    },
    {
      "cell_type": "code",
      "execution_count": 6,
      "metadata": {
        "colab": {
          "base_uri": "https://localhost:8080/"
        },
        "id": "65hylaAPo5xR",
        "outputId": "3065885c-a2b7-4f70-c25f-e9fbdbe50f13"
      },
      "outputs": [
        {
          "output_type": "stream",
          "name": "stdout",
          "text": [
            "No columns where all values are the same.\n"
          ]
        }
      ],
      "source": [
        "import pandas as pd\n",
        "\n",
        "# Path to your data file\n",
        "file_path = '/content/large_customer_data.csv'\n",
        "\n",
        "# Read the CSV file\n",
        "data = pd.read_csv(file_path)\n",
        "\n",
        "# Identify columns where all values are the same\n",
        "same_value_columns = data.columns[data.nunique() == 1]\n",
        "\n",
        "# Display the result\n",
        "if len(same_value_columns) > 0:\n",
        "    print(f\"Columns where all values are the same: {list(same_value_columns)}\")\n",
        "else:\n",
        "    print(\"No columns where all values are the same.\")\n"
      ]
    },
    {
      "cell_type": "markdown",
      "metadata": {
        "id": "cWRUtVr3o5xR"
      },
      "source": [
        "### 4. Range of Values\n",
        "\n",
        "Your data almost certainly has some numeric columns that can be summed or averaged.  Create a histogram that shows the distribution of values for this column."
      ]
    },
    {
      "cell_type": "code",
      "execution_count": 10,
      "metadata": {
        "colab": {
          "base_uri": "https://localhost:8080/"
        },
        "id": "fJWZGjzko5xR",
        "outputId": "f9be5c19-08f5-41f4-c934-5731e935e2db"
      },
      "outputs": [
        {
          "output_type": "stream",
          "name": "stdout",
          "text": [
            "Index(['CustomerID', 'Name', 'Age', 'City'], dtype='object')\n"
          ]
        }
      ],
      "source": [
        "import pandas as pd\n",
        "\n",
        "# Path to your data file\n",
        "file_path = '/content/large_customer_data.csv'\n",
        "\n",
        "# Read the CSV file\n",
        "data = pd.read_csv(file_path)\n",
        "\n",
        "# Display the column names\n",
        "print(data.columns)\n"
      ]
    },
    {
      "cell_type": "markdown",
      "metadata": {
        "id": "2OpDKX2ko5xR"
      },
      "source": [
        "### 5. Discussion\n",
        "\n",
        "Do any additional exploration of this data that you think may be interesting and include your code here.  Then go onto Slack and make a post about what you've observed.  Share your observation.  Share your code, if you like.  Share a screenshot of the data or a chart based on the data.\n",
        "\n",
        "Then comment on at least two other people's observations that they share on Slack.  (Use the reply as thread option in Slack to keep the conversation organized.)"
      ]
    },
    {
      "cell_type": "code",
      "execution_count": 12,
      "metadata": {
        "colab": {
          "base_uri": "https://localhost:8080/",
          "height": 1000
        },
        "id": "6btdvHgzo5xS",
        "outputId": "24967347-7ffb-4d99-823d-886818c60a47"
      },
      "outputs": [
        {
          "output_type": "stream",
          "name": "stdout",
          "text": [
            "Missing Values per Column:\n",
            "CustomerID    0\n",
            "Name          0\n",
            "Age           0\n",
            "City          0\n",
            "dtype: int64\n",
            "\n",
            "Descriptive Statistics:\n",
            "        CustomerID          Age\n",
            "count  1000.000000  1000.000000\n",
            "mean    500.500000    43.251000\n",
            "std     288.819436    14.630449\n",
            "min       1.000000    18.000000\n",
            "25%     250.750000    31.000000\n",
            "50%     500.500000    43.000000\n",
            "75%     750.250000    55.000000\n",
            "max    1000.000000    69.000000\n"
          ]
        },
        {
          "output_type": "display_data",
          "data": {
            "text/plain": [
              "<Figure size 1000x800 with 2 Axes>"
            ],
            "image/png": "[encoded data removed]"
          },
          "metadata": {}
        },
        {
          "output_type": "display_data",
          "data": {
            "text/plain": [
              "<Figure size 800x600 with 1 Axes>"
            ],
            "image/png": "[encoded data removed]"
          },
          "metadata": {}
        }
      ],
      "source": [
        "import pandas as pd\n",
        "import seaborn as sns\n",
        "import matplotlib.pyplot as plt\n",
        "\n",
        "# Path to your data file\n",
        "file_path = '/content/large_customer_data.csv'\n",
        "\n",
        "# Read the CSV file\n",
        "data = pd.read_csv(file_path)\n",
        "\n",
        "# 1. Check for missing values in the dataset\n",
        "missing_values = data.isnull().sum()\n",
        "print(\"Missing Values per Column:\")\n",
        "print(missing_values)\n",
        "\n",
        "# 2. Get descriptive statistics for numeric columns\n",
        "numeric_stats = data.describe()\n",
        "print(\"\\nDescriptive Statistics:\")\n",
        "print(numeric_stats)\n",
        "\n",
        "# 3. Filter only numeric columns for correlation calculation\n",
        "numeric_data = data.select_dtypes(include=['number'])\n",
        "\n",
        "# Calculate correlation matrix only for numeric columns\n",
        "correlation_matrix = numeric_data.corr()\n",
        "\n",
        "# Plot the correlation matrix\n",
        "plt.figure(figsize=(10, 8))\n",
        "sns.heatmap(correlation_matrix, annot=True, cmap='coolwarm', fmt=\".2f\", linewidths=0.5)\n",
        "plt.title(\"Correlation Matrix of Numeric Columns\")\n",
        "plt.show()\n",
        "\n",
        "# 4. Boxplot for outliers in a numeric column (replace 'Age' with another numeric column if needed)\n",
        "numeric_column = 'Age'  # Replace with an actual numeric column name if you want to visualize others\n",
        "if pd.api.types.is_numeric_dtype(data[numeric_column]):\n",
        "    plt.figure(figsize=(8, 6))\n",
        "    sns.boxplot(x=data[numeric_column])\n",
        "    plt.title(f\"Boxplot of {numeric_column}\")\n",
        "    plt.xlabel(numeric_column)\n",
        "    plt.show()\n",
        "else:\n",
        "    print(f\"The column '{numeric_column}' is not numeric.\")\n"
      ]
    },
    {
      "cell_type": "markdown",
      "source": [
        "i have responded to Venkatesh97 and\n",
        "suhail syed on their observations..\n"
      ],
      "metadata": {
        "id": "anaXj8-R1CLa"
      }
    },
    {
      "cell_type": "markdown",
      "metadata": {
        "id": "JzDnU_CSo5xS"
      },
      "source": [
        "\n",
        "\n",
        "---\n",
        "\n",
        "\n",
        "\n",
        "## Submitting Your Work\n",
        "\n",
        "Submit your work as usual."
      ]
    },
    {
      "cell_type": "code",
      "execution_count": null,
      "metadata": {
        "id": "nZwRwgmVo5xS"
      },
      "outputs": [],
      "source": []
    }
  ],
  "metadata": {
    "celltoolbar": "Create Assignment",
    "kernelspec": {
      "display_name": "Python 3",
      "language": "python",
      "name": "python3"
    },
    "language_info": {
      "codemirror_mode": {
        "name": "ipython",
        "version": 3
      },
      "file_extension": ".py",
      "mimetype": "text/x-python",
      "name": "python",
      "nbconvert_exporter": "python",
      "pygments_lexer": "ipython3",
      "version": "3.6.7"
    },
    "colab": {
      "provenance": []
    }
  },
  "nbformat": 4,
  "nbformat_minor": 0
}